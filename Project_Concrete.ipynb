{
 "cells": [
  {
   "cell_type": "markdown",
   "id": "5c91e2dd",
   "metadata": {},
   "source": [
    "# Project Concrete \n",
    "\n",
    "_Project Concrete_ aims to correlate, visualize and predict real estate prices based on the relationship between various\n",
    "factors such as unemployment rate, disposable income and population growth in Austria.\n",
    "\n",
    "Data Sources used for this endeavour\n",
    "- [Unemployment Rates (Source: data.gv.at)](https://www.data.gv.at/katalog/dataset/CFE2FF7E9AD53C1EE053C630070AB105)\n",
    "- !NOT IN USE! [Real Estate Prices (Source: statistik.at)](https://www.statistik.at/web_de/statistiken/wirtschaft/preise/immobilien_durchschnittspreise/index.html)\n",
    "- [Real Estate Prices Vienna (Source: data.gv.at)](https://www.data.gv.at/katalog/dataset/kaufpreissammlung-liegenschaften-wien/resource/7b9bdd2d-2ff0-4e6e-bba5-21483d8cf55b)\n",
    "- !NOT IN USE! [Disposable Income  (Source: statistik.at)](https://www.statistik.at/web_de/statistiken/menschen_und_gesellschaft/soziales/haushalts-einkommen/index.html)\n",
    "- [Net Income Vienna (Source: statistik.at)](https://www.data.gv.at/katalog/dataset/d76c0e8b-c599-4700-8a88-29d0d87e563d)\n",
    "- [Population Growth (Source: data.gv.at)](https://www.data.gv.at/katalog/dataset/f5f823c1-631b-35bd-abed-1442a7cb52a2)\n",
    "\n",
    "Planned execution steps:\n",
    "- Data aggregation and collection (see Planned Data Sources)\n",
    "- Data preperation and import into MongoDB\n",
    "- Analysis of data via Jupyter Notebook\n",
    "- Presentation and visualization of results (i.e. map of Austria/Vienna, etc.)\n"
   ]
  },
  {
   "cell_type": "markdown",
   "id": "ee12d62f",
   "metadata": {},
   "source": [
    "### Install pymongo"
   ]
  },
  {
   "cell_type": "code",
   "execution_count": 1,
   "id": "0f6ad5bd",
   "metadata": {},
   "outputs": [
    {
     "name": "stdout",
     "output_type": "stream",
     "text": [
      "Collecting pymongo\r\n",
      "  Downloading pymongo-4.1.1-cp310-cp310-macosx_10_9_universal2.whl (364 kB)\r\n",
      "\u001B[2K     \u001B[90m━━━━━━━━━━━━━━━━━━━━━━━━━━━━━━━━━━━━━━━\u001B[0m \u001B[32m364.9/364.9 KB\u001B[0m \u001B[31m3.4 MB/s\u001B[0m eta \u001B[36m0:00:00\u001B[0m00:01\u001B[0m00:01\u001B[0m\r\n",
      "\u001B[?25hInstalling collected packages: pymongo\r\n",
      "Successfully installed pymongo-4.1.1\r\n"
     ]
    }
   ],
   "source": [
    "!pip install pymongo"
   ]
  },
  {
   "cell_type": "markdown",
   "id": "e8c794a9",
   "metadata": {},
   "source": [
    "### Connect to DB via connection string"
   ]
  },
  {
   "cell_type": "code",
   "execution_count": 3,
   "id": "f5d79752",
   "metadata": {
    "scrolled": true
   },
   "outputs": [
    {
     "name": "stdout",
     "output_type": "stream",
     "text": [
      "Connection Successful\n",
      "{'name': 'admin', 'sizeOnDisk': 8192, 'empty': False}\n",
      "{'name': 'config', 'sizeOnDisk': 12288, 'empty': False}\n",
      "{'name': 'local', 'sizeOnDisk': 8192, 'empty': False}\n"
     ]
    }
   ],
   "source": [
    "import pymongo\n",
    "from pymongo import MongoClient\n",
    "import pandas as pd\n",
    "\n",
    "# Provide the mongodb atlas url to connect python to mongodb using pymongo\n",
    "CONNECTION_STRING = \"mongodb://127.0.0.1:27017\"\n",
    "\n",
    "# Create a connection using MongoClient\n",
    "myclient = MongoClient(CONNECTION_STRING)\n",
    "\n",
    "print(\"Connection Successful\")\n",
    "\n",
    "# Check DB data\n",
    "for db in myclient.list_databases():\n",
    "    print(db)"
   ]
  },
  {
   "cell_type": "code",
   "execution_count": 7,
   "outputs": [
    {
     "data": {
      "text/plain": "    Jahr  UnselbstBesch  ArbeitslosVorgemerkte  Arbeitslosenquote  \\\n0   1946        1760000                  74000           4.034896   \n1   1947        1900000                  52700           2.698827   \n2   1948        1926700                  54500           2.750858   \n3   1949        1944700                  99900           4.886041   \n4   1950        1946886                 128745           6.202692   \n..   ...            ...                    ...                ...   \n71  2017        3655297                 339976           8.509456   \n72  2018        3741484                 312107           7.699519   \n73  2019        3797304                 301328           7.351916   \n74  2020        3717164                 409639           9.926304   \n75  2021        3804941                 331741           8.019495   \n\n    OffeneStellen  Unnamed: 5  \n0          140067         NaN  \n1          102810         NaN  \n2           45334         NaN  \n3           35724         NaN  \n4           25187         NaN  \n..            ...         ...  \n71          56854         NaN  \n72          71545         NaN  \n73          77093         NaN  \n74          62833         NaN  \n75          95087         NaN  \n\n[76 rows x 6 columns]",
      "text/html": "<div>\n<style scoped>\n    .dataframe tbody tr th:only-of-type {\n        vertical-align: middle;\n    }\n\n    .dataframe tbody tr th {\n        vertical-align: top;\n    }\n\n    .dataframe thead th {\n        text-align: right;\n    }\n</style>\n<table border=\"1\" class=\"dataframe\">\n  <thead>\n    <tr style=\"text-align: right;\">\n      <th></th>\n      <th>Jahr</th>\n      <th>UnselbstBesch</th>\n      <th>ArbeitslosVorgemerkte</th>\n      <th>Arbeitslosenquote</th>\n      <th>OffeneStellen</th>\n      <th>Unnamed: 5</th>\n    </tr>\n  </thead>\n  <tbody>\n    <tr>\n      <th>0</th>\n      <td>1946</td>\n      <td>1760000</td>\n      <td>74000</td>\n      <td>4.034896</td>\n      <td>140067</td>\n      <td>NaN</td>\n    </tr>\n    <tr>\n      <th>1</th>\n      <td>1947</td>\n      <td>1900000</td>\n      <td>52700</td>\n      <td>2.698827</td>\n      <td>102810</td>\n      <td>NaN</td>\n    </tr>\n    <tr>\n      <th>2</th>\n      <td>1948</td>\n      <td>1926700</td>\n      <td>54500</td>\n      <td>2.750858</td>\n      <td>45334</td>\n      <td>NaN</td>\n    </tr>\n    <tr>\n      <th>3</th>\n      <td>1949</td>\n      <td>1944700</td>\n      <td>99900</td>\n      <td>4.886041</td>\n      <td>35724</td>\n      <td>NaN</td>\n    </tr>\n    <tr>\n      <th>4</th>\n      <td>1950</td>\n      <td>1946886</td>\n      <td>128745</td>\n      <td>6.202692</td>\n      <td>25187</td>\n      <td>NaN</td>\n    </tr>\n    <tr>\n      <th>...</th>\n      <td>...</td>\n      <td>...</td>\n      <td>...</td>\n      <td>...</td>\n      <td>...</td>\n      <td>...</td>\n    </tr>\n    <tr>\n      <th>71</th>\n      <td>2017</td>\n      <td>3655297</td>\n      <td>339976</td>\n      <td>8.509456</td>\n      <td>56854</td>\n      <td>NaN</td>\n    </tr>\n    <tr>\n      <th>72</th>\n      <td>2018</td>\n      <td>3741484</td>\n      <td>312107</td>\n      <td>7.699519</td>\n      <td>71545</td>\n      <td>NaN</td>\n    </tr>\n    <tr>\n      <th>73</th>\n      <td>2019</td>\n      <td>3797304</td>\n      <td>301328</td>\n      <td>7.351916</td>\n      <td>77093</td>\n      <td>NaN</td>\n    </tr>\n    <tr>\n      <th>74</th>\n      <td>2020</td>\n      <td>3717164</td>\n      <td>409639</td>\n      <td>9.926304</td>\n      <td>62833</td>\n      <td>NaN</td>\n    </tr>\n    <tr>\n      <th>75</th>\n      <td>2021</td>\n      <td>3804941</td>\n      <td>331741</td>\n      <td>8.019495</td>\n      <td>95087</td>\n      <td>NaN</td>\n    </tr>\n  </tbody>\n</table>\n<p>76 rows × 6 columns</p>\n</div>"
     },
     "execution_count": 7,
     "metadata": {},
     "output_type": "execute_result"
    }
   ],
   "source": [
    "#import unemployment CSV from 1946\n",
    "unemploy_df = pd.read_csv('ub_al_alq_os.csv', sep = \";\", decimal=',')\n",
    "unemploy_df"
   ],
   "metadata": {
    "collapsed": false,
    "pycharm": {
     "name": "#%%\n"
    }
   }
  },
  {
   "cell_type": "code",
   "execution_count": 12,
   "id": "700be332",
   "metadata": {},
   "outputs": [
    {
     "data": {
      "text/plain": "    YEAR  PERSON_IN_THOUSAND\n0   1974                7519\n1   1975                7501\n2   1976                7484\n3   1977                7485\n4   1978                7482\n5   1979                7467\n6   1980                7465\n7   1981                7481\n8   1982                7493\n9   1983                7479\n10  1984                7477\n11  1985                7481\n12  1986                7486\n13  1987                7491\n14  1988                7500\n15  1989                7530\n16  1990                7587\n17  1991                7661\n18  1992                7747\n19  1993                7816\n20  1994                7849\n21  1995                7861\n22  1996                7871\n23  1997                7880\n24  1998                7888\n25  1999                7902\n26  2000                7920\n27  2001                7948\n28  2002                7989\n29  2003                8023\n30  2004                8065\n31  2005                8119\n32  2006                8162\n33  2007                8187\n34  2008                8211\n35  2009                8229\n36  2010                8245\n37  2011                8269\n38  2012                8303\n39  2013                8350\n40  2014                8415\n41  2015                8491\n42  2016                8599\n43  2017                8646\n44  2018                8679\n45  2019                8717\n46  2020                8766\n47  2021                8807",
      "text/html": "<div>\n<style scoped>\n    .dataframe tbody tr th:only-of-type {\n        vertical-align: middle;\n    }\n\n    .dataframe tbody tr th {\n        vertical-align: top;\n    }\n\n    .dataframe thead th {\n        text-align: right;\n    }\n</style>\n<table border=\"1\" class=\"dataframe\">\n  <thead>\n    <tr style=\"text-align: right;\">\n      <th></th>\n      <th>YEAR</th>\n      <th>PERSON_IN_THOUSAND</th>\n    </tr>\n  </thead>\n  <tbody>\n    <tr>\n      <th>0</th>\n      <td>1974</td>\n      <td>7519</td>\n    </tr>\n    <tr>\n      <th>1</th>\n      <td>1975</td>\n      <td>7501</td>\n    </tr>\n    <tr>\n      <th>2</th>\n      <td>1976</td>\n      <td>7484</td>\n    </tr>\n    <tr>\n      <th>3</th>\n      <td>1977</td>\n      <td>7485</td>\n    </tr>\n    <tr>\n      <th>4</th>\n      <td>1978</td>\n      <td>7482</td>\n    </tr>\n    <tr>\n      <th>5</th>\n      <td>1979</td>\n      <td>7467</td>\n    </tr>\n    <tr>\n      <th>6</th>\n      <td>1980</td>\n      <td>7465</td>\n    </tr>\n    <tr>\n      <th>7</th>\n      <td>1981</td>\n      <td>7481</td>\n    </tr>\n    <tr>\n      <th>8</th>\n      <td>1982</td>\n      <td>7493</td>\n    </tr>\n    <tr>\n      <th>9</th>\n      <td>1983</td>\n      <td>7479</td>\n    </tr>\n    <tr>\n      <th>10</th>\n      <td>1984</td>\n      <td>7477</td>\n    </tr>\n    <tr>\n      <th>11</th>\n      <td>1985</td>\n      <td>7481</td>\n    </tr>\n    <tr>\n      <th>12</th>\n      <td>1986</td>\n      <td>7486</td>\n    </tr>\n    <tr>\n      <th>13</th>\n      <td>1987</td>\n      <td>7491</td>\n    </tr>\n    <tr>\n      <th>14</th>\n      <td>1988</td>\n      <td>7500</td>\n    </tr>\n    <tr>\n      <th>15</th>\n      <td>1989</td>\n      <td>7530</td>\n    </tr>\n    <tr>\n      <th>16</th>\n      <td>1990</td>\n      <td>7587</td>\n    </tr>\n    <tr>\n      <th>17</th>\n      <td>1991</td>\n      <td>7661</td>\n    </tr>\n    <tr>\n      <th>18</th>\n      <td>1992</td>\n      <td>7747</td>\n    </tr>\n    <tr>\n      <th>19</th>\n      <td>1993</td>\n      <td>7816</td>\n    </tr>\n    <tr>\n      <th>20</th>\n      <td>1994</td>\n      <td>7849</td>\n    </tr>\n    <tr>\n      <th>21</th>\n      <td>1995</td>\n      <td>7861</td>\n    </tr>\n    <tr>\n      <th>22</th>\n      <td>1996</td>\n      <td>7871</td>\n    </tr>\n    <tr>\n      <th>23</th>\n      <td>1997</td>\n      <td>7880</td>\n    </tr>\n    <tr>\n      <th>24</th>\n      <td>1998</td>\n      <td>7888</td>\n    </tr>\n    <tr>\n      <th>25</th>\n      <td>1999</td>\n      <td>7902</td>\n    </tr>\n    <tr>\n      <th>26</th>\n      <td>2000</td>\n      <td>7920</td>\n    </tr>\n    <tr>\n      <th>27</th>\n      <td>2001</td>\n      <td>7948</td>\n    </tr>\n    <tr>\n      <th>28</th>\n      <td>2002</td>\n      <td>7989</td>\n    </tr>\n    <tr>\n      <th>29</th>\n      <td>2003</td>\n      <td>8023</td>\n    </tr>\n    <tr>\n      <th>30</th>\n      <td>2004</td>\n      <td>8065</td>\n    </tr>\n    <tr>\n      <th>31</th>\n      <td>2005</td>\n      <td>8119</td>\n    </tr>\n    <tr>\n      <th>32</th>\n      <td>2006</td>\n      <td>8162</td>\n    </tr>\n    <tr>\n      <th>33</th>\n      <td>2007</td>\n      <td>8187</td>\n    </tr>\n    <tr>\n      <th>34</th>\n      <td>2008</td>\n      <td>8211</td>\n    </tr>\n    <tr>\n      <th>35</th>\n      <td>2009</td>\n      <td>8229</td>\n    </tr>\n    <tr>\n      <th>36</th>\n      <td>2010</td>\n      <td>8245</td>\n    </tr>\n    <tr>\n      <th>37</th>\n      <td>2011</td>\n      <td>8269</td>\n    </tr>\n    <tr>\n      <th>38</th>\n      <td>2012</td>\n      <td>8303</td>\n    </tr>\n    <tr>\n      <th>39</th>\n      <td>2013</td>\n      <td>8350</td>\n    </tr>\n    <tr>\n      <th>40</th>\n      <td>2014</td>\n      <td>8415</td>\n    </tr>\n    <tr>\n      <th>41</th>\n      <td>2015</td>\n      <td>8491</td>\n    </tr>\n    <tr>\n      <th>42</th>\n      <td>2016</td>\n      <td>8599</td>\n    </tr>\n    <tr>\n      <th>43</th>\n      <td>2017</td>\n      <td>8646</td>\n    </tr>\n    <tr>\n      <th>44</th>\n      <td>2018</td>\n      <td>8679</td>\n    </tr>\n    <tr>\n      <th>45</th>\n      <td>2019</td>\n      <td>8717</td>\n    </tr>\n    <tr>\n      <th>46</th>\n      <td>2020</td>\n      <td>8766</td>\n    </tr>\n    <tr>\n      <th>47</th>\n      <td>2021</td>\n      <td>8807</td>\n    </tr>\n  </tbody>\n</table>\n</div>"
     },
     "execution_count": 12,
     "metadata": {},
     "output_type": "execute_result"
    }
   ],
   "source": [
    "#import population growth CSV from 1974\n",
    "pop_growth_df = pd.read_csv('OGD_ake003j_AKEZR_1.csv', sep = \";\", decimal=',')\n",
    "pop_growth_df = pop_growth_df.rename(columns={'C-A10-0': 'YEAR', 'F-ISIS-1': 'PERSON_IN_THOUSAND'})\n",
    "pop_growth_df.YEAR = pop_growth_df.YEAR.str.replace('A10-','',regex = True)\n",
    "pop_growth_df"
   ]
  },
  {
   "cell_type": "code",
   "execution_count": 16,
   "outputs": [
    {
     "name": "stderr",
     "output_type": "stream",
     "text": [
      "/Users/kayaloeher/Library/Python/3.7/lib/python/site-packages/IPython/core/interactiveshell.py:3229: DtypeWarning: Columns (12,19,41) have mixed types. Specify dtype option on import or set low_memory=False.\n",
      "  interactivity=interactivity, compiler=compiler, result=result)\n"
     ]
    },
    {
     "data": {
      "text/plain": "       KG.Code    Katastralgemeinde      EZ     PLZ                   Straße  \\\n0         1617         Strebersdorf  1417.0  1210.0                  Mühlweg   \n1         1607  Groß Jedlersdorf II   193.0  1210.0            Bahnsteggasse   \n2         1209         Ober St.Veit  3570.0  1130.0              Jennerplatz   \n3         1207                Lainz   405.0  1130.0  Sebastian-Brunner-Gasse   \n4         1101            Favoriten  3831.0  1100.0       Laxenburger Straße   \n...        ...                  ...     ...     ...                      ...   \n57907     1204           Hadersdorf  1057.0  1140.0         Laskywiesengasse   \n57908     1204           Hadersdorf  1200.0  1140.0       Robert-Fuchs-Gasse   \n57909     1206           Hütteldorf  2760.0  1140.0              Ulmenstraße   \n57910     1216           Weidlingau     5.0  1140.0              Hauptstraße   \n57911     1206           Hütteldorf   816.0  1140.0         Steinböckengasse   \n\n            ON     Gst.  Gst.Fl.          ErwArt Erwerbsdatum  ...  \\\n0           13   752/16    755.0     Kaufvertrag   13.10.2021  ...   \n1            4      408    510.0     Kaufvertrag   13.09.2021  ...   \n2        34/20    938/3    456.0     Kaufvertrag   10.08.2021  ...   \n3            6     8/23    523.0     Kaufvertrag   30.12.2020  ...   \n4      2C -2 D  2044/19  12768.0     Kaufvertrag   04.11.2020  ...   \n...        ...      ...      ...             ...          ...  ...   \n57907       10      889   1313.0     Kaufvertrag   18.08.2021  ...   \n57908    25-31      448   4003.0     Kaufvertrag   05.12.2018  ...   \n57909       48   1232/1    499.0     Kaufvertrag   15.06.2021  ...   \n57910      114     11/2   1649.0     Kaufvertrag   26.07.2021  ...   \n57911       57    685/1     21.0  MA 64-Bescheid   01.12.2021  ...   \n\n      Baureifgest % Widmung Baurecht  Bis auf EZ Stammeinlage  \\\n0          FALSCH     100.0   FALSCH  NaN    NaN       FALSCH   \n1          FALSCH     100.0   FALSCH  NaN    NaN       FALSCH   \n2          FALSCH     100.0   FALSCH  NaN    NaN       FALSCH   \n3          FALSCH     100.0   FALSCH  NaN    NaN       FALSCH   \n4          FALSCH      30.0   FALSCH  NaN    NaN       FALSCH   \n...           ...       ...      ...  ...    ...          ...   \n57907      FALSCH     100.0   FALSCH  NaN    NaN       FALSCH   \n57908      FALSCH     100.0   FALSCH  NaN    NaN       FALSCH   \n57909      FALSCH     100.0   FALSCH  NaN    NaN       FALSCH   \n57910      FALSCH     100.0   FALSCH  NaN    NaN       FALSCH   \n57911      FALSCH     100.0   FALSCH  NaN    NaN       FALSCH   \n\n               sonst_wid sonst_wid_prz ber. Kaufpreis Bauzins  \n0                    NaN           NaN       750000.0     NaN  \n1                    NaN           NaN      1250000.0     NaN  \n2                    NaN           NaN       480000.0     NaN  \n3                    NaN           NaN      1600000.0     NaN  \n4      W  V  22 g , Wi g        40 ,30     15000000.0     NaN  \n...                  ...           ...            ...     ...  \n57907                NaN           NaN       950000.0     NaN  \n57908                NaN           NaN      5200000.0     NaN  \n57909                NaN           NaN       699000.0     NaN  \n57910                NaN           NaN      1496000.0     NaN  \n57911                NaN           NaN         9450.0     NaN  \n\n[57912 rows x 47 columns]",
      "text/html": "<div>\n<style scoped>\n    .dataframe tbody tr th:only-of-type {\n        vertical-align: middle;\n    }\n\n    .dataframe tbody tr th {\n        vertical-align: top;\n    }\n\n    .dataframe thead th {\n        text-align: right;\n    }\n</style>\n<table border=\"1\" class=\"dataframe\">\n  <thead>\n    <tr style=\"text-align: right;\">\n      <th></th>\n      <th>KG.Code</th>\n      <th>Katastralgemeinde</th>\n      <th>EZ</th>\n      <th>PLZ</th>\n      <th>Straße</th>\n      <th>ON</th>\n      <th>Gst.</th>\n      <th>Gst.Fl.</th>\n      <th>ErwArt</th>\n      <th>Erwerbsdatum</th>\n      <th>...</th>\n      <th>Baureifgest</th>\n      <th>% Widmung</th>\n      <th>Baurecht</th>\n      <th>Bis</th>\n      <th>auf EZ</th>\n      <th>Stammeinlage</th>\n      <th>sonst_wid</th>\n      <th>sonst_wid_prz</th>\n      <th>ber. Kaufpreis</th>\n      <th>Bauzins</th>\n    </tr>\n  </thead>\n  <tbody>\n    <tr>\n      <th>0</th>\n      <td>1617</td>\n      <td>Strebersdorf</td>\n      <td>1417.0</td>\n      <td>1210.0</td>\n      <td>Mühlweg</td>\n      <td>13</td>\n      <td>752/16</td>\n      <td>755.0</td>\n      <td>Kaufvertrag</td>\n      <td>13.10.2021</td>\n      <td>...</td>\n      <td>FALSCH</td>\n      <td>100.0</td>\n      <td>FALSCH</td>\n      <td>NaN</td>\n      <td>NaN</td>\n      <td>FALSCH</td>\n      <td>NaN</td>\n      <td>NaN</td>\n      <td>750000.0</td>\n      <td>NaN</td>\n    </tr>\n    <tr>\n      <th>1</th>\n      <td>1607</td>\n      <td>Groß Jedlersdorf II</td>\n      <td>193.0</td>\n      <td>1210.0</td>\n      <td>Bahnsteggasse</td>\n      <td>4</td>\n      <td>408</td>\n      <td>510.0</td>\n      <td>Kaufvertrag</td>\n      <td>13.09.2021</td>\n      <td>...</td>\n      <td>FALSCH</td>\n      <td>100.0</td>\n      <td>FALSCH</td>\n      <td>NaN</td>\n      <td>NaN</td>\n      <td>FALSCH</td>\n      <td>NaN</td>\n      <td>NaN</td>\n      <td>1250000.0</td>\n      <td>NaN</td>\n    </tr>\n    <tr>\n      <th>2</th>\n      <td>1209</td>\n      <td>Ober St.Veit</td>\n      <td>3570.0</td>\n      <td>1130.0</td>\n      <td>Jennerplatz</td>\n      <td>34/20</td>\n      <td>938/3</td>\n      <td>456.0</td>\n      <td>Kaufvertrag</td>\n      <td>10.08.2021</td>\n      <td>...</td>\n      <td>FALSCH</td>\n      <td>100.0</td>\n      <td>FALSCH</td>\n      <td>NaN</td>\n      <td>NaN</td>\n      <td>FALSCH</td>\n      <td>NaN</td>\n      <td>NaN</td>\n      <td>480000.0</td>\n      <td>NaN</td>\n    </tr>\n    <tr>\n      <th>3</th>\n      <td>1207</td>\n      <td>Lainz</td>\n      <td>405.0</td>\n      <td>1130.0</td>\n      <td>Sebastian-Brunner-Gasse</td>\n      <td>6</td>\n      <td>8/23</td>\n      <td>523.0</td>\n      <td>Kaufvertrag</td>\n      <td>30.12.2020</td>\n      <td>...</td>\n      <td>FALSCH</td>\n      <td>100.0</td>\n      <td>FALSCH</td>\n      <td>NaN</td>\n      <td>NaN</td>\n      <td>FALSCH</td>\n      <td>NaN</td>\n      <td>NaN</td>\n      <td>1600000.0</td>\n      <td>NaN</td>\n    </tr>\n    <tr>\n      <th>4</th>\n      <td>1101</td>\n      <td>Favoriten</td>\n      <td>3831.0</td>\n      <td>1100.0</td>\n      <td>Laxenburger Straße</td>\n      <td>2C -2 D</td>\n      <td>2044/19</td>\n      <td>12768.0</td>\n      <td>Kaufvertrag</td>\n      <td>04.11.2020</td>\n      <td>...</td>\n      <td>FALSCH</td>\n      <td>30.0</td>\n      <td>FALSCH</td>\n      <td>NaN</td>\n      <td>NaN</td>\n      <td>FALSCH</td>\n      <td>W  V  22 g , Wi g</td>\n      <td>40 ,30</td>\n      <td>15000000.0</td>\n      <td>NaN</td>\n    </tr>\n    <tr>\n      <th>...</th>\n      <td>...</td>\n      <td>...</td>\n      <td>...</td>\n      <td>...</td>\n      <td>...</td>\n      <td>...</td>\n      <td>...</td>\n      <td>...</td>\n      <td>...</td>\n      <td>...</td>\n      <td>...</td>\n      <td>...</td>\n      <td>...</td>\n      <td>...</td>\n      <td>...</td>\n      <td>...</td>\n      <td>...</td>\n      <td>...</td>\n      <td>...</td>\n      <td>...</td>\n      <td>...</td>\n    </tr>\n    <tr>\n      <th>57907</th>\n      <td>1204</td>\n      <td>Hadersdorf</td>\n      <td>1057.0</td>\n      <td>1140.0</td>\n      <td>Laskywiesengasse</td>\n      <td>10</td>\n      <td>889</td>\n      <td>1313.0</td>\n      <td>Kaufvertrag</td>\n      <td>18.08.2021</td>\n      <td>...</td>\n      <td>FALSCH</td>\n      <td>100.0</td>\n      <td>FALSCH</td>\n      <td>NaN</td>\n      <td>NaN</td>\n      <td>FALSCH</td>\n      <td>NaN</td>\n      <td>NaN</td>\n      <td>950000.0</td>\n      <td>NaN</td>\n    </tr>\n    <tr>\n      <th>57908</th>\n      <td>1204</td>\n      <td>Hadersdorf</td>\n      <td>1200.0</td>\n      <td>1140.0</td>\n      <td>Robert-Fuchs-Gasse</td>\n      <td>25-31</td>\n      <td>448</td>\n      <td>4003.0</td>\n      <td>Kaufvertrag</td>\n      <td>05.12.2018</td>\n      <td>...</td>\n      <td>FALSCH</td>\n      <td>100.0</td>\n      <td>FALSCH</td>\n      <td>NaN</td>\n      <td>NaN</td>\n      <td>FALSCH</td>\n      <td>NaN</td>\n      <td>NaN</td>\n      <td>5200000.0</td>\n      <td>NaN</td>\n    </tr>\n    <tr>\n      <th>57909</th>\n      <td>1206</td>\n      <td>Hütteldorf</td>\n      <td>2760.0</td>\n      <td>1140.0</td>\n      <td>Ulmenstraße</td>\n      <td>48</td>\n      <td>1232/1</td>\n      <td>499.0</td>\n      <td>Kaufvertrag</td>\n      <td>15.06.2021</td>\n      <td>...</td>\n      <td>FALSCH</td>\n      <td>100.0</td>\n      <td>FALSCH</td>\n      <td>NaN</td>\n      <td>NaN</td>\n      <td>FALSCH</td>\n      <td>NaN</td>\n      <td>NaN</td>\n      <td>699000.0</td>\n      <td>NaN</td>\n    </tr>\n    <tr>\n      <th>57910</th>\n      <td>1216</td>\n      <td>Weidlingau</td>\n      <td>5.0</td>\n      <td>1140.0</td>\n      <td>Hauptstraße</td>\n      <td>114</td>\n      <td>11/2</td>\n      <td>1649.0</td>\n      <td>Kaufvertrag</td>\n      <td>26.07.2021</td>\n      <td>...</td>\n      <td>FALSCH</td>\n      <td>100.0</td>\n      <td>FALSCH</td>\n      <td>NaN</td>\n      <td>NaN</td>\n      <td>FALSCH</td>\n      <td>NaN</td>\n      <td>NaN</td>\n      <td>1496000.0</td>\n      <td>NaN</td>\n    </tr>\n    <tr>\n      <th>57911</th>\n      <td>1206</td>\n      <td>Hütteldorf</td>\n      <td>816.0</td>\n      <td>1140.0</td>\n      <td>Steinböckengasse</td>\n      <td>57</td>\n      <td>685/1</td>\n      <td>21.0</td>\n      <td>MA 64-Bescheid</td>\n      <td>01.12.2021</td>\n      <td>...</td>\n      <td>FALSCH</td>\n      <td>100.0</td>\n      <td>FALSCH</td>\n      <td>NaN</td>\n      <td>NaN</td>\n      <td>FALSCH</td>\n      <td>NaN</td>\n      <td>NaN</td>\n      <td>9450.0</td>\n      <td>NaN</td>\n    </tr>\n  </tbody>\n</table>\n<p>57912 rows × 47 columns</p>\n</div>"
     },
     "execution_count": 16,
     "metadata": {},
     "output_type": "execute_result"
    }
   ],
   "source": [
    "#import real estate prices vienna from 1990\n",
    "real_estate_vienna_df = pd.read_csv('kaufpreissammlung-liegenschaften.csv', sep = \";\", decimal=',', encoding='latin-1')\n",
    "real_estate_vienna_df"
   ],
   "metadata": {
    "collapsed": false,
    "pycharm": {
     "name": "#%%\n"
    }
   }
  },
  {
   "cell_type": "code",
   "execution_count": 23,
   "outputs": [
    {
     "data": {
      "text/plain": "     NUTS  DISTRICT_CODE  SUB_DISTRICT_CODE  REF_YEAR  REF_DATE INC_TOT_VALUE  \\\n0    AT13          90000              90000      2002  20021231        18.217   \n1    AT13          90100              90100      2002  20021231        25.463   \n2    AT13          90200              90200      2002  20021231        16.439   \n3    AT13          90300              90300      2002  20021231        18.701   \n4    AT13          90400              90400      2002  20021231        20.325   \n..    ...            ...                ...       ...       ...           ...   \n451  AT13          91900              91900      2020  20201231        29.195   \n452  AT13          92000              92000      2020  20201231        20.671   \n453  AT13          92100              92100      2020  20201231        24.061   \n454  AT13          92200              92200      2020  20201231        26.272   \n455  AT13          92300              92300      2020  20201231        26.900   \n\n    INC_MAL_VALUE INC_FEM_VALUE  \n0          20.709        15.424  \n1          31.961        18.536  \n2          18.301        14.282  \n3          21.444        15.804  \n4          23.641        16.876  \n..            ...           ...  \n451        34.102        24.257  \n452        21.591        19.531  \n453        26.202        21.693  \n454        29.302        23.100  \n455        30.160        23.451  \n\n[456 rows x 8 columns]",
      "text/html": "<div>\n<style scoped>\n    .dataframe tbody tr th:only-of-type {\n        vertical-align: middle;\n    }\n\n    .dataframe tbody tr th {\n        vertical-align: top;\n    }\n\n    .dataframe thead th {\n        text-align: right;\n    }\n</style>\n<table border=\"1\" class=\"dataframe\">\n  <thead>\n    <tr style=\"text-align: right;\">\n      <th></th>\n      <th>NUTS</th>\n      <th>DISTRICT_CODE</th>\n      <th>SUB_DISTRICT_CODE</th>\n      <th>REF_YEAR</th>\n      <th>REF_DATE</th>\n      <th>INC_TOT_VALUE</th>\n      <th>INC_MAL_VALUE</th>\n      <th>INC_FEM_VALUE</th>\n    </tr>\n  </thead>\n  <tbody>\n    <tr>\n      <th>0</th>\n      <td>AT13</td>\n      <td>90000</td>\n      <td>90000</td>\n      <td>2002</td>\n      <td>20021231</td>\n      <td>18.217</td>\n      <td>20.709</td>\n      <td>15.424</td>\n    </tr>\n    <tr>\n      <th>1</th>\n      <td>AT13</td>\n      <td>90100</td>\n      <td>90100</td>\n      <td>2002</td>\n      <td>20021231</td>\n      <td>25.463</td>\n      <td>31.961</td>\n      <td>18.536</td>\n    </tr>\n    <tr>\n      <th>2</th>\n      <td>AT13</td>\n      <td>90200</td>\n      <td>90200</td>\n      <td>2002</td>\n      <td>20021231</td>\n      <td>16.439</td>\n      <td>18.301</td>\n      <td>14.282</td>\n    </tr>\n    <tr>\n      <th>3</th>\n      <td>AT13</td>\n      <td>90300</td>\n      <td>90300</td>\n      <td>2002</td>\n      <td>20021231</td>\n      <td>18.701</td>\n      <td>21.444</td>\n      <td>15.804</td>\n    </tr>\n    <tr>\n      <th>4</th>\n      <td>AT13</td>\n      <td>90400</td>\n      <td>90400</td>\n      <td>2002</td>\n      <td>20021231</td>\n      <td>20.325</td>\n      <td>23.641</td>\n      <td>16.876</td>\n    </tr>\n    <tr>\n      <th>...</th>\n      <td>...</td>\n      <td>...</td>\n      <td>...</td>\n      <td>...</td>\n      <td>...</td>\n      <td>...</td>\n      <td>...</td>\n      <td>...</td>\n    </tr>\n    <tr>\n      <th>451</th>\n      <td>AT13</td>\n      <td>91900</td>\n      <td>91900</td>\n      <td>2020</td>\n      <td>20201231</td>\n      <td>29.195</td>\n      <td>34.102</td>\n      <td>24.257</td>\n    </tr>\n    <tr>\n      <th>452</th>\n      <td>AT13</td>\n      <td>92000</td>\n      <td>92000</td>\n      <td>2020</td>\n      <td>20201231</td>\n      <td>20.671</td>\n      <td>21.591</td>\n      <td>19.531</td>\n    </tr>\n    <tr>\n      <th>453</th>\n      <td>AT13</td>\n      <td>92100</td>\n      <td>92100</td>\n      <td>2020</td>\n      <td>20201231</td>\n      <td>24.061</td>\n      <td>26.202</td>\n      <td>21.693</td>\n    </tr>\n    <tr>\n      <th>454</th>\n      <td>AT13</td>\n      <td>92200</td>\n      <td>92200</td>\n      <td>2020</td>\n      <td>20201231</td>\n      <td>26.272</td>\n      <td>29.302</td>\n      <td>23.100</td>\n    </tr>\n    <tr>\n      <th>455</th>\n      <td>AT13</td>\n      <td>92300</td>\n      <td>92300</td>\n      <td>2020</td>\n      <td>20201231</td>\n      <td>26.900</td>\n      <td>30.160</td>\n      <td>23.451</td>\n    </tr>\n  </tbody>\n</table>\n<p>456 rows × 8 columns</p>\n</div>"
     },
     "execution_count": 23,
     "metadata": {},
     "output_type": "execute_result"
    }
   ],
   "source": [
    "#import net income vienna from 2002\n",
    "net_income_vienna_df = pd.read_csv('vie-bez-biz-ecn-inc-sex-2002f.csv', sep=';', decimal=',')\n",
    "net_income_vienna_df"
   ],
   "metadata": {
    "collapsed": false,
    "pycharm": {
     "name": "#%%\n"
    }
   }
  },
  {
   "cell_type": "markdown",
   "id": "47479a40",
   "metadata": {},
   "source": [
    "### Create collection\n",
    "Loading dataframes into database"
   ]
  },
  {
   "cell_type": "code",
   "execution_count": 24,
   "id": "64b4e43e",
   "metadata": {},
   "outputs": [
    {
     "name": "stdout",
     "output_type": "stream",
     "text": [
      "['netIncomeVienna', 'unemploymentData', 'realEstateVienna', 'populationGrowth']\n"
     ]
    }
   ],
   "source": [
    "# In MongoDB collections and DBs are only created on first insert (reminiscent of Git folders)\n",
    "db = myclient[\"immodb\"]\n",
    "\n",
    "# We insert the whole dateframes\n",
    "# unemploymentData\n",
    "db.unemploymentData.insert_many(unemploy_df.to_dict('records'))\n",
    "# populationGrowth\n",
    "db.populationGrowth.insert_many(pop_growth_df.to_dict('records'))\n",
    "# realEstateVienna\n",
    "db.realEstateVienna.insert_many(real_estate_vienna_df.to_dict('records'))\n",
    "# netIncomeVienna\n",
    "db.netIncomeVienna.insert_many(net_income_vienna_df.to_dict('records'))\n",
    "\n",
    "#check if colletion has been created\n",
    "print(db.list_collection_names())\n"
   ]
  },
  {
   "cell_type": "code",
   "execution_count": 28,
   "id": "8fec0f0d",
   "metadata": {},
   "outputs": [
    {
     "name": "stdout",
     "output_type": "stream",
     "text": [
      "{'_id': ObjectId('626163596daf38671d1eb1cf'), 'Jahr': 1946, 'UnselbstBesch': 1760000, 'ArbeitslosVorgemerkte': 74000, 'Arbeitslosenquote': 4.034896401308616, 'OffeneStellen': 140067, 'Unnamed: 5': nan}\n",
      "{'_id': ObjectId('626163596daf38671d1eb1d0'), 'Jahr': 1947, 'UnselbstBesch': 1900000, 'ArbeitslosVorgemerkte': 52700, 'Arbeitslosenquote': 2.6988272648128238, 'OffeneStellen': 102810, 'Unnamed: 5': nan}\n",
      "{'_id': ObjectId('626163596daf38671d1eb1d1'), 'Jahr': 1948, 'UnselbstBesch': 1926700, 'ArbeitslosVorgemerkte': 54500, 'Arbeitslosenquote': 2.750858065818696, 'OffeneStellen': 45334, 'Unnamed: 5': nan}\n",
      "{'_id': ObjectId('626163596daf38671d1eb1d2'), 'Jahr': 1949, 'UnselbstBesch': 1944700, 'ArbeitslosVorgemerkte': 99900, 'Arbeitslosenquote': 4.886041279467867, 'OffeneStellen': 35724, 'Unnamed: 5': nan}\n",
      "{'_id': ObjectId('626163596daf38671d1eb1d3'), 'Jahr': 1950, 'UnselbstBesch': 1946886, 'ArbeitslosVorgemerkte': 128745, 'Arbeitslosenquote': 6.202692097005683, 'OffeneStellen': 25187, 'Unnamed: 5': nan}\n",
      "{'_id': ObjectId('626163596daf38671d1eb1d4'), 'Jahr': 1951, 'UnselbstBesch': 1984313, 'ArbeitslosVorgemerkte': 117497, 'Arbeitslosenquote': 5.590276951770141, 'OffeneStellen': 26860, 'Unnamed: 5': nan}\n",
      "{'_id': ObjectId('626163596daf38671d1eb1d5'), 'Jahr': 1952, 'UnselbstBesch': 1939075, 'ArbeitslosVorgemerkte': 156792, 'Arbeitslosenquote': 7.481009052578242, 'OffeneStellen': 16303, 'Unnamed: 5': nan}\n",
      "{'_id': ObjectId('626163596daf38671d1eb1d6'), 'Jahr': 1953, 'UnselbstBesch': 1918891, 'ArbeitslosVorgemerkte': 183478, 'Arbeitslosenquote': 8.727202503461571, 'OffeneStellen': 12475, 'Unnamed: 5': nan}\n",
      "{'_id': ObjectId('626163596daf38671d1eb1d7'), 'Jahr': 1954, 'UnselbstBesch': 1975241, 'ArbeitslosVorgemerkte': 163073, 'Arbeitslosenquote': 7.626241983169918, 'OffeneStellen': 17190, 'Unnamed: 5': nan}\n",
      "{'_id': ObjectId('626163596daf38671d1eb1d8'), 'Jahr': 1955, 'UnselbstBesch': 2074223, 'ArbeitslosVorgemerkte': 117890, 'Arbeitslosenquote': 5.3779161931889465, 'OffeneStellen': 24590, 'Unnamed: 5': nan}\n",
      "{'_id': ObjectId('626163596daf38671d1eb1d9'), 'Jahr': 1956, 'UnselbstBesch': 2137093, 'ArbeitslosVorgemerkte': 115123, 'Arbeitslosenquote': 5.1115434754037805, 'OffeneStellen': 21811, 'Unnamed: 5': nan}\n",
      "{'_id': ObjectId('626163596daf38671d1eb1da'), 'Jahr': 1957, 'UnselbstBesch': 2185387, 'ArbeitslosVorgemerkte': 107283, 'Arbeitslosenquote': 4.6793912774189055, 'OffeneStellen': 21089, 'Unnamed: 5': nan}\n",
      "{'_id': ObjectId('626163596daf38671d1eb1db'), 'Jahr': 1958, 'UnselbstBesch': 2202809, 'ArbeitslosVorgemerkte': 116675, 'Arbeitslosenquote': 5.030213616476769, 'OffeneStellen': 21435, 'Unnamed: 5': nan}\n",
      "{'_id': ObjectId('626163596daf38671d1eb1dc'), 'Jahr': 1959, 'UnselbstBesch': 2236064, 'ArbeitslosVorgemerkte': 104856, 'Arbeitslosenquote': 4.479264562650582, 'OffeneStellen': 24882, 'Unnamed: 5': nan}\n",
      "{'_id': ObjectId('626163596daf38671d1eb1dd'), 'Jahr': 1960, 'UnselbstBesch': 2281915, 'ArbeitslosVorgemerkte': 79310, 'Arbeitslosenquote': 3.3588497496003136, 'OffeneStellen': 30189, 'Unnamed: 5': nan}\n",
      "{'_id': ObjectId('626163596daf38671d1eb1de'), 'Jahr': 1961, 'UnselbstBesch': 2322206, 'ArbeitslosVorgemerkte': 60505, 'Arbeitslosenquote': 2.5393343968278157, 'OffeneStellen': 37777, 'Unnamed: 5': nan}\n",
      "{'_id': ObjectId('626163596daf38671d1eb1df'), 'Jahr': 1962, 'UnselbstBesch': 2340448, 'ArbeitslosVorgemerkte': 61658, 'Arbeitslosenquote': 2.5668309391841992, 'OffeneStellen': 37608, 'Unnamed: 5': nan}\n",
      "{'_id': ObjectId('626163596daf38671d1eb1e0'), 'Jahr': 1963, 'UnselbstBesch': 2342103, 'ArbeitslosVorgemerkte': 67642, 'Arbeitslosenquote': 2.8070189999356776, 'OffeneStellen': 37362, 'Unnamed: 5': nan}\n",
      "{'_id': ObjectId('626163596daf38671d1eb1e1'), 'Jahr': 1964, 'UnselbstBesch': 2363780, 'ArbeitslosVorgemerkte': 62828, 'Arbeitslosenquote': 2.589128528382005, 'OffeneStellen': 39612, 'Unnamed: 5': nan}\n",
      "{'_id': ObjectId('626163596daf38671d1eb1e2'), 'Jahr': 1965, 'UnselbstBesch': 2381467, 'ArbeitslosVorgemerkte': 61464, 'Arbeitslosenquote': 2.515994107078751, 'OffeneStellen': 41888, 'Unnamed: 5': nan}\n",
      "{'_id': ObjectId('626163596daf38671d1eb1e3'), 'Jahr': 1966, 'UnselbstBesch': 2386628, 'ArbeitslosVorgemerkte': 56188, 'Arbeitslosenquote': 2.3001323063218844, 'OffeneStellen': 45937, 'Unnamed: 5': nan}\n",
      "{'_id': ObjectId('626163596daf38671d1eb1e4'), 'Jahr': 1967, 'UnselbstBesch': 2359550, 'ArbeitslosVorgemerkte': 57967, 'Arbeitslosenquote': 2.3977907911299075, 'OffeneStellen': 32402, 'Unnamed: 5': nan}\n",
      "{'_id': ObjectId('626163596daf38671d1eb1e5'), 'Jahr': 1968, 'UnselbstBesch': 2339319, 'ArbeitslosVorgemerkte': 61505, 'Arbeitslosenquote': 2.561828772121572, 'OffeneStellen': 27638, 'Unnamed: 5': nan}\n",
      "{'_id': ObjectId('626163596daf38671d1eb1e6'), 'Jahr': 1969, 'UnselbstBesch': 2357655, 'ArbeitslosVorgemerkte': 55235, 'Arbeitslosenquote': 2.2891636170733016, 'OffeneStellen': 33889, 'Unnamed: 5': nan}\n",
      "{'_id': ObjectId('626163596daf38671d1eb1e7'), 'Jahr': 1970, 'UnselbstBesch': 2389195, 'ArbeitslosVorgemerkte': 45106, 'Arbeitslosenquote': 1.8529343741796929, 'OffeneStellen': 45280, 'Unnamed: 5': nan}\n",
      "{'_id': ObjectId('626163596daf38671d1eb1e8'), 'Jahr': 1971, 'UnselbstBesch': 2454858, 'ArbeitslosVorgemerkte': 36980, 'Arbeitslosenquote': 1.4840451104766843, 'OffeneStellen': 55914, 'Unnamed: 5': nan}\n",
      "{'_id': ObjectId('626163596daf38671d1eb1e9'), 'Jahr': 1972, 'UnselbstBesch': 2512718, 'ArbeitslosVorgemerkte': 33235, 'Arbeitslosenquote': 1.3054050879965184, 'OffeneStellen': 61998, 'Unnamed: 5': nan}\n",
      "{'_id': ObjectId('626163596daf38671d1eb1ea'), 'Jahr': 1973, 'UnselbstBesch': 2608306, 'ArbeitslosVorgemerkte': 31327, 'Arbeitslosenquote': 1.1867937701945688, 'OffeneStellen': 66060, 'Unnamed: 5': nan}\n",
      "{'_id': ObjectId('626163596daf38671d1eb1eb'), 'Jahr': 1974, 'UnselbstBesch': 2656922, 'ArbeitslosVorgemerkte': 35931, 'Arbeitslosenquote': 1.3343097450919157, 'OffeneStellen': 57599, 'Unnamed: 5': nan}\n",
      "{'_id': ObjectId('626163596daf38671d1eb1ec'), 'Jahr': 1975, 'UnselbstBesch': 2656440, 'ArbeitslosVorgemerkte': 55464, 'Arbeitslosenquote': 2.0452051400049562, 'OffeneStellen': 31209, 'Unnamed: 5': nan}\n",
      "{'_id': ObjectId('626163596daf38671d1eb1ed'), 'Jahr': 1976, 'UnselbstBesch': 2685862, 'ArbeitslosVorgemerkte': 55257, 'Arbeitslosenquote': 2.015855568474043, 'OffeneStellen': 29366, 'Unnamed: 5': nan}\n",
      "{'_id': ObjectId('626163596daf38671d1eb1ee'), 'Jahr': 1977, 'UnselbstBesch': 2737147, 'ArbeitslosVorgemerkte': 51165, 'Arbeitslosenquote': 1.8349811642312623, 'OffeneStellen': 32136, 'Unnamed: 5': nan}\n",
      "{'_id': ObjectId('626163596daf38671d1eb1ef'), 'Jahr': 1978, 'UnselbstBesch': 2757705, 'ArbeitslosVorgemerkte': 58570, 'Arbeitslosenquote': 2.0796974727254973, 'OffeneStellen': 29405, 'Unnamed: 5': nan}\n",
      "{'_id': ObjectId('626163596daf38671d1eb1f0'), 'Jahr': 1979, 'UnselbstBesch': 2773719, 'ArbeitslosVorgemerkte': 56719, 'Arbeitslosenquote': 2.0038948035604385, 'OffeneStellen': 31360, 'Unnamed: 5': nan}\n",
      "{'_id': ObjectId('626163596daf38671d1eb1f1'), 'Jahr': 1980, 'UnselbstBesch': 2788737, 'ArbeitslosVorgemerkte': 53161, 'Arbeitslosenquote': 1.8706160460368388, 'OffeneStellen': 36470, 'Unnamed: 5': nan}\n",
      "{'_id': ObjectId('626163596daf38671d1eb1f2'), 'Jahr': 1981, 'UnselbstBesch': 2798557, 'ArbeitslosVorgemerkte': 69295, 'Arbeitslosenquote': 2.4162683429967795, 'OffeneStellen': 25320, 'Unnamed: 5': nan}\n",
      "{'_id': ObjectId('626163596daf38671d1eb1f3'), 'Jahr': 1982, 'UnselbstBesch': 2766350, 'ArbeitslosVorgemerkte': 105346, 'Arbeitslosenquote': 3.668424512901087, 'OffeneStellen': 17276, 'Unnamed: 5': nan}\n",
      "{'_id': ObjectId('626163596daf38671d1eb1f4'), 'Jahr': 1983, 'UnselbstBesch': 2734729, 'ArbeitslosVorgemerkte': 127376, 'Arbeitslosenquote': 4.450430714456667, 'OffeneStellen': 15181, 'Unnamed: 5': nan}\n",
      "{'_id': ObjectId('626163596daf38671d1eb1f5'), 'Jahr': 1984, 'UnselbstBesch': 2744506, 'ArbeitslosVorgemerkte': 130469, 'Arbeitslosenquote': 4.53809163557944, 'OffeneStellen': 17166, 'Unnamed: 5': nan}\n",
      "{'_id': ObjectId('626163596daf38671d1eb1f6'), 'Jahr': 1985, 'UnselbstBesch': 2759657, 'ArbeitslosVorgemerkte': 139447, 'Arbeitslosenquote': 4.810003366557392, 'OffeneStellen': 22273, 'Unnamed: 5': nan}\n",
      "{'_id': ObjectId('626163596daf38671d1eb1f7'), 'Jahr': 1986, 'UnselbstBesch': 2780204, 'ArbeitslosVorgemerkte': 151972, 'Arbeitslosenquote': 5.182908529365222, 'OffeneStellen': 24693, 'Unnamed: 5': nan}\n",
      "{'_id': ObjectId('626163596daf38671d1eb1f8'), 'Jahr': 1987, 'UnselbstBesch': 2785358, 'ArbeitslosVorgemerkte': 164468, 'Arbeitslosenquote': 5.5755153015805, 'OffeneStellen': 26836, 'Unnamed: 5': nan}\n",
      "{'_id': ObjectId('626163596daf38671d1eb1f9'), 'Jahr': 1988, 'UnselbstBesch': 2810478, 'ArbeitslosVorgemerkte': 158631, 'Arbeitslosenquote': 5.342713925288697, 'OffeneStellen': 31184, 'Unnamed: 5': nan}\n",
      "{'_id': ObjectId('626163596daf38671d1eb1fa'), 'Jahr': 1989, 'UnselbstBesch': 2862291, 'ArbeitslosVorgemerkte': 149177, 'Arbeitslosenquote': 4.9536305881384095, 'OffeneStellen': 45599, 'Unnamed: 5': nan}\n",
      "{'_id': ObjectId('626163596daf38671d1eb1fb'), 'Jahr': 1990, 'UnselbstBesch': 2928662, 'ArbeitslosVorgemerkte': 165795, 'Arbeitslosenquote': 5.357805909081949, 'OffeneStellen': 55622, 'Unnamed: 5': nan}\n",
      "{'_id': ObjectId('626163596daf38671d1eb1fc'), 'Jahr': 1991, 'UnselbstBesch': 2997352, 'ArbeitslosVorgemerkte': 185029, 'Arbeitslosenquote': 5.814168699473759, 'OffeneStellen': 49448, 'Unnamed: 5': nan}\n",
      "{'_id': ObjectId('626163596daf38671d1eb1fd'), 'Jahr': 1992, 'UnselbstBesch': 3055810, 'ArbeitslosVorgemerkte': 193098, 'Arbeitslosenquote': 5.943473930317509, 'OffeneStellen': 44126, 'Unnamed: 5': nan}\n",
      "{'_id': ObjectId('626163596daf38671d1eb1fe'), 'Jahr': 1993, 'UnselbstBesch': 3054910, 'ArbeitslosVorgemerkte': 222265, 'Arbeitslosenquote': 6.782213339232722, 'OffeneStellen': 32906, 'Unnamed: 5': nan}\n",
      "{'_id': ObjectId('626163596daf38671d1eb1ff'), 'Jahr': 1994, 'UnselbstBesch': 3070732, 'ArbeitslosVorgemerkte': 214941, 'Arbeitslosenquote': 6.541764807392581, 'OffeneStellen': 30197, 'Unnamed: 5': nan}\n",
      "{'_id': ObjectId('626163596daf38671d1eb200'), 'Jahr': 1995, 'UnselbstBesch': 3068186, 'ArbeitslosVorgemerkte': 215716, 'Arbeitslosenquote': 6.5688927379684285, 'OffeneStellen': 24986, 'Unnamed: 5': nan}\n",
      "{'_id': ObjectId('626163596daf38671d1eb201'), 'Jahr': 1996, 'UnselbstBesch': 3047253, 'ArbeitslosVorgemerkte': 230507, 'Arbeitslosenquote': 7.032455091281851, 'OffeneStellen': 19431, 'Unnamed: 5': nan}\n",
      "{'_id': ObjectId('626163596daf38671d1eb202'), 'Jahr': 1997, 'UnselbstBesch': 3055569, 'ArbeitslosVorgemerkte': 233348, 'Arbeitslosenquote': 7.094979897638037, 'OffeneStellen': 19019, 'Unnamed: 5': nan}\n",
      "{'_id': ObjectId('626163596daf38671d1eb203'), 'Jahr': 1998, 'UnselbstBesch': 3076667, 'ArbeitslosVorgemerkte': 237794, 'Arbeitslosenquote': 7.174439524254471, 'OffeneStellen': 23088, 'Unnamed: 5': nan}\n",
      "{'_id': ObjectId('626163596daf38671d1eb204'), 'Jahr': 1999, 'UnselbstBesch': 3107898, 'ArbeitslosVorgemerkte': 221743, 'Arbeitslosenquote': 6.6596669130395725, 'OffeneStellen': 31216, 'Unnamed: 5': nan}\n",
      "{'_id': ObjectId('626163596daf38671d1eb205'), 'Jahr': 2000, 'UnselbstBesch': 3133738, 'ArbeitslosVorgemerkte': 194314, 'Arbeitslosenquote': 5.838670789999674, 'OffeneStellen': 35495, 'Unnamed: 5': nan}\n",
      "{'_id': ObjectId('626163596daf38671d1eb206'), 'Jahr': 2001, 'UnselbstBesch': 3148155, 'ArbeitslosVorgemerkte': 203883, 'Arbeitslosenquote': 6.0823594481924115, 'OffeneStellen': 29670, 'Unnamed: 5': nan}\n",
      "{'_id': ObjectId('626163596daf38671d1eb207'), 'Jahr': 2002, 'UnselbstBesch': 3155161, 'ArbeitslosVorgemerkte': 232418, 'Arbeitslosenquote': 6.8608879674835626, 'OffeneStellen': 23189, 'Unnamed: 5': nan}\n",
      "{'_id': ObjectId('626163596daf38671d1eb208'), 'Jahr': 2003, 'UnselbstBesch': 3184759, 'ArbeitslosVorgemerkte': 240079, 'Arbeitslosenquote': 7.009937404338541, 'OffeneStellen': 21716, 'Unnamed: 5': nan}\n",
      "{'_id': ObjectId('626163596daf38671d1eb209'), 'Jahr': 2004, 'UnselbstBesch': 3198591, 'ArbeitslosVorgemerkte': 243880, 'Arbeitslosenquote': 7.084446370279099, 'OffeneStellen': 23774, 'Unnamed: 5': nan}\n",
      "{'_id': ObjectId('626163596daf38671d1eb20a'), 'Jahr': 2005, 'UnselbstBesch': 3230286, 'ArbeitslosVorgemerkte': 252654, 'Arbeitslosenquote': 7.2540431295061145, 'OffeneStellen': 26209, 'Unnamed: 5': nan}\n",
      "{'_id': ObjectId('626163596daf38671d1eb20b'), 'Jahr': 2006, 'UnselbstBesch': 3280878, 'ArbeitslosVorgemerkte': 239174, 'Arbeitslosenquote': 6.794615534088701, 'OffeneStellen': 32912, 'Unnamed: 5': nan}\n",
      "{'_id': ObjectId('626163596daf38671d1eb20c'), 'Jahr': 2007, 'UnselbstBesch': 3344039, 'ArbeitslosVorgemerkte': 222248, 'Arbeitslosenquote': 6.231915715140143, 'OffeneStellen': 38214, 'Unnamed: 5': nan}\n",
      "{'_id': ObjectId('626163596daf38671d1eb20d'), 'Jahr': 2008, 'UnselbstBesch': 3388617, 'ArbeitslosVorgemerkte': 212253, 'Arbeitslosenquote': 5.894492164393605, 'OffeneStellen': 37498, 'Unnamed: 5': nan}\n",
      "{'_id': ObjectId('626163596daf38671d1eb20e'), 'Jahr': 2009, 'UnselbstBesch': 3339051, 'ArbeitslosVorgemerkte': 260309, 'Arbeitslosenquote': 7.232091260668564, 'OffeneStellen': 27165, 'Unnamed: 5': nan}\n",
      "{'_id': ObjectId('626163596daf38671d1eb20f'), 'Jahr': 2010, 'UnselbstBesch': 3360238, 'ArbeitslosVorgemerkte': 250782, 'Arbeitslosenquote': 6.944907533051604, 'OffeneStellen': 31009, 'Unnamed: 5': nan}\n",
      "{'_id': ObjectId('626163596daf38671d1eb210'), 'Jahr': 2011, 'UnselbstBesch': 3421748, 'ArbeitslosVorgemerkte': 246702, 'Arbeitslosenquote': 6.724965584920063, 'OffeneStellen': 32310, 'Unnamed: 5': nan}\n",
      "{'_id': ObjectId('626163596daf38671d1eb211'), 'Jahr': 2012, 'UnselbstBesch': 3465454, 'ArbeitslosVorgemerkte': 260643, 'Arbeitslosenquote': 6.995067492875253, 'OffeneStellen': 29422, 'Unnamed: 5': nan}\n",
      "{'_id': ObjectId('626163596daf38671d1eb212'), 'Jahr': 2013, 'UnselbstBesch': 3482996, 'ArbeitslosVorgemerkte': 287206, 'Arbeitslosenquote': 7.617788118514606, 'OffeneStellen': 26383, 'Unnamed: 5': nan}\n",
      "{'_id': ObjectId('626163596daf38671d1eb213'), 'Jahr': 2014, 'UnselbstBesch': 3503400, 'ArbeitslosVorgemerkte': 319357, 'Arbeitslosenquote': 8.354101503182127, 'OffeneStellen': 26320, 'Unnamed: 5': nan}\n",
      "{'_id': ObjectId('626163596daf38671d1eb214'), 'Jahr': 2015, 'UnselbstBesch': 3534854, 'ArbeitslosVorgemerkte': 354332, 'Arbeitslosenquote': 9.11069822836964, 'OffeneStellen': 29251, 'Unnamed: 5': nan}\n",
      "{'_id': ObjectId('626163596daf38671d1eb215'), 'Jahr': 2016, 'UnselbstBesch': 3586872, 'ArbeitslosVorgemerkte': 357313, 'Arbeitslosenquote': 9.05923530463201, 'OffeneStellen': 40277, 'Unnamed: 5': nan}\n",
      "{'_id': ObjectId('626163596daf38671d1eb216'), 'Jahr': 2017, 'UnselbstBesch': 3655297, 'ArbeitslosVorgemerkte': 339976, 'Arbeitslosenquote': 8.509456049686719, 'OffeneStellen': 56854, 'Unnamed: 5': nan}\n",
      "{'_id': ObjectId('626163596daf38671d1eb217'), 'Jahr': 2018, 'UnselbstBesch': 3741484, 'ArbeitslosVorgemerkte': 312107, 'Arbeitslosenquote': 7.699518772367512, 'OffeneStellen': 71545, 'Unnamed: 5': nan}\n",
      "{'_id': ObjectId('626163596daf38671d1eb218'), 'Jahr': 2019, 'UnselbstBesch': 3797304, 'ArbeitslosVorgemerkte': 301328, 'Arbeitslosenquote': 7.351916444316054, 'OffeneStellen': 77093, 'Unnamed: 5': nan}\n",
      "{'_id': ObjectId('626163596daf38671d1eb219'), 'Jahr': 2020, 'UnselbstBesch': 3717164, 'ArbeitslosVorgemerkte': 409639, 'Arbeitslosenquote': 9.926303927566199, 'OffeneStellen': 62833, 'Unnamed: 5': nan}\n",
      "{'_id': ObjectId('626163596daf38671d1eb21a'), 'Jahr': 2021, 'UnselbstBesch': 3804941, 'ArbeitslosVorgemerkte': 331741, 'Arbeitslosenquote': 8.019494851187499, 'OffeneStellen': 95087, 'Unnamed: 5': nan}\n",
      "{'_id': ObjectId('6261665c6daf38671d1eb24b'), 'Jahr': 1946, 'UnselbstBesch': 1760000, 'ArbeitslosVorgemerkte': 74000, 'Arbeitslosenquote': 4.034896401308616, 'OffeneStellen': 140067, 'Unnamed: 5': nan}\n",
      "{'_id': ObjectId('6261665c6daf38671d1eb24c'), 'Jahr': 1947, 'UnselbstBesch': 1900000, 'ArbeitslosVorgemerkte': 52700, 'Arbeitslosenquote': 2.6988272648128238, 'OffeneStellen': 102810, 'Unnamed: 5': nan}\n",
      "{'_id': ObjectId('6261665c6daf38671d1eb24d'), 'Jahr': 1948, 'UnselbstBesch': 1926700, 'ArbeitslosVorgemerkte': 54500, 'Arbeitslosenquote': 2.750858065818696, 'OffeneStellen': 45334, 'Unnamed: 5': nan}\n",
      "{'_id': ObjectId('6261665c6daf38671d1eb24e'), 'Jahr': 1949, 'UnselbstBesch': 1944700, 'ArbeitslosVorgemerkte': 99900, 'Arbeitslosenquote': 4.886041279467867, 'OffeneStellen': 35724, 'Unnamed: 5': nan}\n",
      "{'_id': ObjectId('6261665c6daf38671d1eb24f'), 'Jahr': 1950, 'UnselbstBesch': 1946886, 'ArbeitslosVorgemerkte': 128745, 'Arbeitslosenquote': 6.202692097005683, 'OffeneStellen': 25187, 'Unnamed: 5': nan}\n",
      "{'_id': ObjectId('6261665c6daf38671d1eb250'), 'Jahr': 1951, 'UnselbstBesch': 1984313, 'ArbeitslosVorgemerkte': 117497, 'Arbeitslosenquote': 5.590276951770141, 'OffeneStellen': 26860, 'Unnamed: 5': nan}\n",
      "{'_id': ObjectId('6261665c6daf38671d1eb251'), 'Jahr': 1952, 'UnselbstBesch': 1939075, 'ArbeitslosVorgemerkte': 156792, 'Arbeitslosenquote': 7.481009052578242, 'OffeneStellen': 16303, 'Unnamed: 5': nan}\n",
      "{'_id': ObjectId('6261665c6daf38671d1eb252'), 'Jahr': 1953, 'UnselbstBesch': 1918891, 'ArbeitslosVorgemerkte': 183478, 'Arbeitslosenquote': 8.727202503461571, 'OffeneStellen': 12475, 'Unnamed: 5': nan}\n",
      "{'_id': ObjectId('6261665c6daf38671d1eb253'), 'Jahr': 1954, 'UnselbstBesch': 1975241, 'ArbeitslosVorgemerkte': 163073, 'Arbeitslosenquote': 7.626241983169918, 'OffeneStellen': 17190, 'Unnamed: 5': nan}\n",
      "{'_id': ObjectId('6261665c6daf38671d1eb254'), 'Jahr': 1955, 'UnselbstBesch': 2074223, 'ArbeitslosVorgemerkte': 117890, 'Arbeitslosenquote': 5.3779161931889465, 'OffeneStellen': 24590, 'Unnamed: 5': nan}\n",
      "{'_id': ObjectId('6261665c6daf38671d1eb255'), 'Jahr': 1956, 'UnselbstBesch': 2137093, 'ArbeitslosVorgemerkte': 115123, 'Arbeitslosenquote': 5.1115434754037805, 'OffeneStellen': 21811, 'Unnamed: 5': nan}\n",
      "{'_id': ObjectId('6261665c6daf38671d1eb256'), 'Jahr': 1957, 'UnselbstBesch': 2185387, 'ArbeitslosVorgemerkte': 107283, 'Arbeitslosenquote': 4.6793912774189055, 'OffeneStellen': 21089, 'Unnamed: 5': nan}\n",
      "{'_id': ObjectId('6261665c6daf38671d1eb257'), 'Jahr': 1958, 'UnselbstBesch': 2202809, 'ArbeitslosVorgemerkte': 116675, 'Arbeitslosenquote': 5.030213616476769, 'OffeneStellen': 21435, 'Unnamed: 5': nan}\n",
      "{'_id': ObjectId('6261665c6daf38671d1eb258'), 'Jahr': 1959, 'UnselbstBesch': 2236064, 'ArbeitslosVorgemerkte': 104856, 'Arbeitslosenquote': 4.479264562650582, 'OffeneStellen': 24882, 'Unnamed: 5': nan}\n",
      "{'_id': ObjectId('6261665c6daf38671d1eb259'), 'Jahr': 1960, 'UnselbstBesch': 2281915, 'ArbeitslosVorgemerkte': 79310, 'Arbeitslosenquote': 3.3588497496003136, 'OffeneStellen': 30189, 'Unnamed: 5': nan}\n",
      "{'_id': ObjectId('6261665c6daf38671d1eb25a'), 'Jahr': 1961, 'UnselbstBesch': 2322206, 'ArbeitslosVorgemerkte': 60505, 'Arbeitslosenquote': 2.5393343968278157, 'OffeneStellen': 37777, 'Unnamed: 5': nan}\n",
      "{'_id': ObjectId('6261665c6daf38671d1eb25b'), 'Jahr': 1962, 'UnselbstBesch': 2340448, 'ArbeitslosVorgemerkte': 61658, 'Arbeitslosenquote': 2.5668309391841992, 'OffeneStellen': 37608, 'Unnamed: 5': nan}\n",
      "{'_id': ObjectId('6261665c6daf38671d1eb25c'), 'Jahr': 1963, 'UnselbstBesch': 2342103, 'ArbeitslosVorgemerkte': 67642, 'Arbeitslosenquote': 2.8070189999356776, 'OffeneStellen': 37362, 'Unnamed: 5': nan}\n",
      "{'_id': ObjectId('6261665c6daf38671d1eb25d'), 'Jahr': 1964, 'UnselbstBesch': 2363780, 'ArbeitslosVorgemerkte': 62828, 'Arbeitslosenquote': 2.589128528382005, 'OffeneStellen': 39612, 'Unnamed: 5': nan}\n",
      "{'_id': ObjectId('6261665c6daf38671d1eb25e'), 'Jahr': 1965, 'UnselbstBesch': 2381467, 'ArbeitslosVorgemerkte': 61464, 'Arbeitslosenquote': 2.515994107078751, 'OffeneStellen': 41888, 'Unnamed: 5': nan}\n",
      "{'_id': ObjectId('6261665c6daf38671d1eb25f'), 'Jahr': 1966, 'UnselbstBesch': 2386628, 'ArbeitslosVorgemerkte': 56188, 'Arbeitslosenquote': 2.3001323063218844, 'OffeneStellen': 45937, 'Unnamed: 5': nan}\n",
      "{'_id': ObjectId('6261665c6daf38671d1eb260'), 'Jahr': 1967, 'UnselbstBesch': 2359550, 'ArbeitslosVorgemerkte': 57967, 'Arbeitslosenquote': 2.3977907911299075, 'OffeneStellen': 32402, 'Unnamed: 5': nan}\n",
      "{'_id': ObjectId('6261665c6daf38671d1eb261'), 'Jahr': 1968, 'UnselbstBesch': 2339319, 'ArbeitslosVorgemerkte': 61505, 'Arbeitslosenquote': 2.561828772121572, 'OffeneStellen': 27638, 'Unnamed: 5': nan}\n",
      "{'_id': ObjectId('6261665c6daf38671d1eb262'), 'Jahr': 1969, 'UnselbstBesch': 2357655, 'ArbeitslosVorgemerkte': 55235, 'Arbeitslosenquote': 2.2891636170733016, 'OffeneStellen': 33889, 'Unnamed: 5': nan}\n",
      "{'_id': ObjectId('6261665c6daf38671d1eb263'), 'Jahr': 1970, 'UnselbstBesch': 2389195, 'ArbeitslosVorgemerkte': 45106, 'Arbeitslosenquote': 1.8529343741796929, 'OffeneStellen': 45280, 'Unnamed: 5': nan}\n",
      "{'_id': ObjectId('6261665c6daf38671d1eb264'), 'Jahr': 1971, 'UnselbstBesch': 2454858, 'ArbeitslosVorgemerkte': 36980, 'Arbeitslosenquote': 1.4840451104766843, 'OffeneStellen': 55914, 'Unnamed: 5': nan}\n",
      "{'_id': ObjectId('6261665c6daf38671d1eb265'), 'Jahr': 1972, 'UnselbstBesch': 2512718, 'ArbeitslosVorgemerkte': 33235, 'Arbeitslosenquote': 1.3054050879965184, 'OffeneStellen': 61998, 'Unnamed: 5': nan}\n",
      "{'_id': ObjectId('6261665c6daf38671d1eb266'), 'Jahr': 1973, 'UnselbstBesch': 2608306, 'ArbeitslosVorgemerkte': 31327, 'Arbeitslosenquote': 1.1867937701945688, 'OffeneStellen': 66060, 'Unnamed: 5': nan}\n",
      "{'_id': ObjectId('6261665c6daf38671d1eb267'), 'Jahr': 1974, 'UnselbstBesch': 2656922, 'ArbeitslosVorgemerkte': 35931, 'Arbeitslosenquote': 1.3343097450919157, 'OffeneStellen': 57599, 'Unnamed: 5': nan}\n",
      "{'_id': ObjectId('6261665c6daf38671d1eb268'), 'Jahr': 1975, 'UnselbstBesch': 2656440, 'ArbeitslosVorgemerkte': 55464, 'Arbeitslosenquote': 2.0452051400049562, 'OffeneStellen': 31209, 'Unnamed: 5': nan}\n",
      "{'_id': ObjectId('6261665c6daf38671d1eb269'), 'Jahr': 1976, 'UnselbstBesch': 2685862, 'ArbeitslosVorgemerkte': 55257, 'Arbeitslosenquote': 2.015855568474043, 'OffeneStellen': 29366, 'Unnamed: 5': nan}\n",
      "{'_id': ObjectId('6261665c6daf38671d1eb26a'), 'Jahr': 1977, 'UnselbstBesch': 2737147, 'ArbeitslosVorgemerkte': 51165, 'Arbeitslosenquote': 1.8349811642312623, 'OffeneStellen': 32136, 'Unnamed: 5': nan}\n",
      "{'_id': ObjectId('6261665c6daf38671d1eb26b'), 'Jahr': 1978, 'UnselbstBesch': 2757705, 'ArbeitslosVorgemerkte': 58570, 'Arbeitslosenquote': 2.0796974727254973, 'OffeneStellen': 29405, 'Unnamed: 5': nan}\n",
      "{'_id': ObjectId('6261665c6daf38671d1eb26c'), 'Jahr': 1979, 'UnselbstBesch': 2773719, 'ArbeitslosVorgemerkte': 56719, 'Arbeitslosenquote': 2.0038948035604385, 'OffeneStellen': 31360, 'Unnamed: 5': nan}\n",
      "{'_id': ObjectId('6261665c6daf38671d1eb26d'), 'Jahr': 1980, 'UnselbstBesch': 2788737, 'ArbeitslosVorgemerkte': 53161, 'Arbeitslosenquote': 1.8706160460368388, 'OffeneStellen': 36470, 'Unnamed: 5': nan}\n",
      "{'_id': ObjectId('6261665c6daf38671d1eb26e'), 'Jahr': 1981, 'UnselbstBesch': 2798557, 'ArbeitslosVorgemerkte': 69295, 'Arbeitslosenquote': 2.4162683429967795, 'OffeneStellen': 25320, 'Unnamed: 5': nan}\n",
      "{'_id': ObjectId('6261665c6daf38671d1eb26f'), 'Jahr': 1982, 'UnselbstBesch': 2766350, 'ArbeitslosVorgemerkte': 105346, 'Arbeitslosenquote': 3.668424512901087, 'OffeneStellen': 17276, 'Unnamed: 5': nan}\n",
      "{'_id': ObjectId('6261665c6daf38671d1eb270'), 'Jahr': 1983, 'UnselbstBesch': 2734729, 'ArbeitslosVorgemerkte': 127376, 'Arbeitslosenquote': 4.450430714456667, 'OffeneStellen': 15181, 'Unnamed: 5': nan}\n",
      "{'_id': ObjectId('6261665c6daf38671d1eb271'), 'Jahr': 1984, 'UnselbstBesch': 2744506, 'ArbeitslosVorgemerkte': 130469, 'Arbeitslosenquote': 4.53809163557944, 'OffeneStellen': 17166, 'Unnamed: 5': nan}\n",
      "{'_id': ObjectId('6261665c6daf38671d1eb272'), 'Jahr': 1985, 'UnselbstBesch': 2759657, 'ArbeitslosVorgemerkte': 139447, 'Arbeitslosenquote': 4.810003366557392, 'OffeneStellen': 22273, 'Unnamed: 5': nan}\n",
      "{'_id': ObjectId('6261665c6daf38671d1eb273'), 'Jahr': 1986, 'UnselbstBesch': 2780204, 'ArbeitslosVorgemerkte': 151972, 'Arbeitslosenquote': 5.182908529365222, 'OffeneStellen': 24693, 'Unnamed: 5': nan}\n",
      "{'_id': ObjectId('6261665c6daf38671d1eb274'), 'Jahr': 1987, 'UnselbstBesch': 2785358, 'ArbeitslosVorgemerkte': 164468, 'Arbeitslosenquote': 5.5755153015805, 'OffeneStellen': 26836, 'Unnamed: 5': nan}\n",
      "{'_id': ObjectId('6261665c6daf38671d1eb275'), 'Jahr': 1988, 'UnselbstBesch': 2810478, 'ArbeitslosVorgemerkte': 158631, 'Arbeitslosenquote': 5.342713925288697, 'OffeneStellen': 31184, 'Unnamed: 5': nan}\n",
      "{'_id': ObjectId('6261665c6daf38671d1eb276'), 'Jahr': 1989, 'UnselbstBesch': 2862291, 'ArbeitslosVorgemerkte': 149177, 'Arbeitslosenquote': 4.9536305881384095, 'OffeneStellen': 45599, 'Unnamed: 5': nan}\n",
      "{'_id': ObjectId('6261665c6daf38671d1eb277'), 'Jahr': 1990, 'UnselbstBesch': 2928662, 'ArbeitslosVorgemerkte': 165795, 'Arbeitslosenquote': 5.357805909081949, 'OffeneStellen': 55622, 'Unnamed: 5': nan}\n",
      "{'_id': ObjectId('6261665c6daf38671d1eb278'), 'Jahr': 1991, 'UnselbstBesch': 2997352, 'ArbeitslosVorgemerkte': 185029, 'Arbeitslosenquote': 5.814168699473759, 'OffeneStellen': 49448, 'Unnamed: 5': nan}\n",
      "{'_id': ObjectId('6261665c6daf38671d1eb279'), 'Jahr': 1992, 'UnselbstBesch': 3055810, 'ArbeitslosVorgemerkte': 193098, 'Arbeitslosenquote': 5.943473930317509, 'OffeneStellen': 44126, 'Unnamed: 5': nan}\n",
      "{'_id': ObjectId('6261665c6daf38671d1eb27a'), 'Jahr': 1993, 'UnselbstBesch': 3054910, 'ArbeitslosVorgemerkte': 222265, 'Arbeitslosenquote': 6.782213339232722, 'OffeneStellen': 32906, 'Unnamed: 5': nan}\n",
      "{'_id': ObjectId('6261665c6daf38671d1eb27b'), 'Jahr': 1994, 'UnselbstBesch': 3070732, 'ArbeitslosVorgemerkte': 214941, 'Arbeitslosenquote': 6.541764807392581, 'OffeneStellen': 30197, 'Unnamed: 5': nan}\n",
      "{'_id': ObjectId('6261665c6daf38671d1eb27c'), 'Jahr': 1995, 'UnselbstBesch': 3068186, 'ArbeitslosVorgemerkte': 215716, 'Arbeitslosenquote': 6.5688927379684285, 'OffeneStellen': 24986, 'Unnamed: 5': nan}\n",
      "{'_id': ObjectId('6261665c6daf38671d1eb27d'), 'Jahr': 1996, 'UnselbstBesch': 3047253, 'ArbeitslosVorgemerkte': 230507, 'Arbeitslosenquote': 7.032455091281851, 'OffeneStellen': 19431, 'Unnamed: 5': nan}\n",
      "{'_id': ObjectId('6261665c6daf38671d1eb27e'), 'Jahr': 1997, 'UnselbstBesch': 3055569, 'ArbeitslosVorgemerkte': 233348, 'Arbeitslosenquote': 7.094979897638037, 'OffeneStellen': 19019, 'Unnamed: 5': nan}\n",
      "{'_id': ObjectId('6261665c6daf38671d1eb27f'), 'Jahr': 1998, 'UnselbstBesch': 3076667, 'ArbeitslosVorgemerkte': 237794, 'Arbeitslosenquote': 7.174439524254471, 'OffeneStellen': 23088, 'Unnamed: 5': nan}\n",
      "{'_id': ObjectId('6261665c6daf38671d1eb280'), 'Jahr': 1999, 'UnselbstBesch': 3107898, 'ArbeitslosVorgemerkte': 221743, 'Arbeitslosenquote': 6.6596669130395725, 'OffeneStellen': 31216, 'Unnamed: 5': nan}\n",
      "{'_id': ObjectId('6261665c6daf38671d1eb281'), 'Jahr': 2000, 'UnselbstBesch': 3133738, 'ArbeitslosVorgemerkte': 194314, 'Arbeitslosenquote': 5.838670789999674, 'OffeneStellen': 35495, 'Unnamed: 5': nan}\n",
      "{'_id': ObjectId('6261665c6daf38671d1eb282'), 'Jahr': 2001, 'UnselbstBesch': 3148155, 'ArbeitslosVorgemerkte': 203883, 'Arbeitslosenquote': 6.0823594481924115, 'OffeneStellen': 29670, 'Unnamed: 5': nan}\n",
      "{'_id': ObjectId('6261665c6daf38671d1eb283'), 'Jahr': 2002, 'UnselbstBesch': 3155161, 'ArbeitslosVorgemerkte': 232418, 'Arbeitslosenquote': 6.8608879674835626, 'OffeneStellen': 23189, 'Unnamed: 5': nan}\n",
      "{'_id': ObjectId('6261665c6daf38671d1eb284'), 'Jahr': 2003, 'UnselbstBesch': 3184759, 'ArbeitslosVorgemerkte': 240079, 'Arbeitslosenquote': 7.009937404338541, 'OffeneStellen': 21716, 'Unnamed: 5': nan}\n",
      "{'_id': ObjectId('6261665c6daf38671d1eb285'), 'Jahr': 2004, 'UnselbstBesch': 3198591, 'ArbeitslosVorgemerkte': 243880, 'Arbeitslosenquote': 7.084446370279099, 'OffeneStellen': 23774, 'Unnamed: 5': nan}\n",
      "{'_id': ObjectId('6261665c6daf38671d1eb286'), 'Jahr': 2005, 'UnselbstBesch': 3230286, 'ArbeitslosVorgemerkte': 252654, 'Arbeitslosenquote': 7.2540431295061145, 'OffeneStellen': 26209, 'Unnamed: 5': nan}\n",
      "{'_id': ObjectId('6261665c6daf38671d1eb287'), 'Jahr': 2006, 'UnselbstBesch': 3280878, 'ArbeitslosVorgemerkte': 239174, 'Arbeitslosenquote': 6.794615534088701, 'OffeneStellen': 32912, 'Unnamed: 5': nan}\n",
      "{'_id': ObjectId('6261665c6daf38671d1eb288'), 'Jahr': 2007, 'UnselbstBesch': 3344039, 'ArbeitslosVorgemerkte': 222248, 'Arbeitslosenquote': 6.231915715140143, 'OffeneStellen': 38214, 'Unnamed: 5': nan}\n",
      "{'_id': ObjectId('6261665c6daf38671d1eb289'), 'Jahr': 2008, 'UnselbstBesch': 3388617, 'ArbeitslosVorgemerkte': 212253, 'Arbeitslosenquote': 5.894492164393605, 'OffeneStellen': 37498, 'Unnamed: 5': nan}\n",
      "{'_id': ObjectId('6261665c6daf38671d1eb28a'), 'Jahr': 2009, 'UnselbstBesch': 3339051, 'ArbeitslosVorgemerkte': 260309, 'Arbeitslosenquote': 7.232091260668564, 'OffeneStellen': 27165, 'Unnamed: 5': nan}\n",
      "{'_id': ObjectId('6261665c6daf38671d1eb28b'), 'Jahr': 2010, 'UnselbstBesch': 3360238, 'ArbeitslosVorgemerkte': 250782, 'Arbeitslosenquote': 6.944907533051604, 'OffeneStellen': 31009, 'Unnamed: 5': nan}\n",
      "{'_id': ObjectId('6261665c6daf38671d1eb28c'), 'Jahr': 2011, 'UnselbstBesch': 3421748, 'ArbeitslosVorgemerkte': 246702, 'Arbeitslosenquote': 6.724965584920063, 'OffeneStellen': 32310, 'Unnamed: 5': nan}\n",
      "{'_id': ObjectId('6261665c6daf38671d1eb28d'), 'Jahr': 2012, 'UnselbstBesch': 3465454, 'ArbeitslosVorgemerkte': 260643, 'Arbeitslosenquote': 6.995067492875253, 'OffeneStellen': 29422, 'Unnamed: 5': nan}\n",
      "{'_id': ObjectId('6261665c6daf38671d1eb28e'), 'Jahr': 2013, 'UnselbstBesch': 3482996, 'ArbeitslosVorgemerkte': 287206, 'Arbeitslosenquote': 7.617788118514606, 'OffeneStellen': 26383, 'Unnamed: 5': nan}\n",
      "{'_id': ObjectId('6261665c6daf38671d1eb28f'), 'Jahr': 2014, 'UnselbstBesch': 3503400, 'ArbeitslosVorgemerkte': 319357, 'Arbeitslosenquote': 8.354101503182127, 'OffeneStellen': 26320, 'Unnamed: 5': nan}\n",
      "{'_id': ObjectId('6261665c6daf38671d1eb290'), 'Jahr': 2015, 'UnselbstBesch': 3534854, 'ArbeitslosVorgemerkte': 354332, 'Arbeitslosenquote': 9.11069822836964, 'OffeneStellen': 29251, 'Unnamed: 5': nan}\n",
      "{'_id': ObjectId('6261665c6daf38671d1eb291'), 'Jahr': 2016, 'UnselbstBesch': 3586872, 'ArbeitslosVorgemerkte': 357313, 'Arbeitslosenquote': 9.05923530463201, 'OffeneStellen': 40277, 'Unnamed: 5': nan}\n",
      "{'_id': ObjectId('6261665c6daf38671d1eb292'), 'Jahr': 2017, 'UnselbstBesch': 3655297, 'ArbeitslosVorgemerkte': 339976, 'Arbeitslosenquote': 8.509456049686719, 'OffeneStellen': 56854, 'Unnamed: 5': nan}\n",
      "{'_id': ObjectId('6261665c6daf38671d1eb293'), 'Jahr': 2018, 'UnselbstBesch': 3741484, 'ArbeitslosVorgemerkte': 312107, 'Arbeitslosenquote': 7.699518772367512, 'OffeneStellen': 71545, 'Unnamed: 5': nan}\n",
      "{'_id': ObjectId('6261665c6daf38671d1eb294'), 'Jahr': 2019, 'UnselbstBesch': 3797304, 'ArbeitslosVorgemerkte': 301328, 'Arbeitslosenquote': 7.351916444316054, 'OffeneStellen': 77093, 'Unnamed: 5': nan}\n",
      "{'_id': ObjectId('6261665c6daf38671d1eb295'), 'Jahr': 2020, 'UnselbstBesch': 3717164, 'ArbeitslosVorgemerkte': 409639, 'Arbeitslosenquote': 9.926303927566199, 'OffeneStellen': 62833, 'Unnamed: 5': nan}\n",
      "{'_id': ObjectId('6261665c6daf38671d1eb296'), 'Jahr': 2021, 'UnselbstBesch': 3804941, 'ArbeitslosVorgemerkte': 331741, 'Arbeitslosenquote': 8.019494851187499, 'OffeneStellen': 95087, 'Unnamed: 5': nan}\n",
      "{'_id': ObjectId('62617cb56daf38671d1f94ff'), 'Jahr': 1946, 'UnselbstBesch': 1760000, 'ArbeitslosVorgemerkte': 74000, 'Arbeitslosenquote': 4.034896401308616, 'OffeneStellen': 140067, 'Unnamed: 5': nan}\n",
      "{'_id': ObjectId('62617cb56daf38671d1f9500'), 'Jahr': 1947, 'UnselbstBesch': 1900000, 'ArbeitslosVorgemerkte': 52700, 'Arbeitslosenquote': 2.6988272648128238, 'OffeneStellen': 102810, 'Unnamed: 5': nan}\n",
      "{'_id': ObjectId('62617cb56daf38671d1f9501'), 'Jahr': 1948, 'UnselbstBesch': 1926700, 'ArbeitslosVorgemerkte': 54500, 'Arbeitslosenquote': 2.750858065818696, 'OffeneStellen': 45334, 'Unnamed: 5': nan}\n",
      "{'_id': ObjectId('62617cb56daf38671d1f9502'), 'Jahr': 1949, 'UnselbstBesch': 1944700, 'ArbeitslosVorgemerkte': 99900, 'Arbeitslosenquote': 4.886041279467867, 'OffeneStellen': 35724, 'Unnamed: 5': nan}\n",
      "{'_id': ObjectId('62617cb56daf38671d1f9503'), 'Jahr': 1950, 'UnselbstBesch': 1946886, 'ArbeitslosVorgemerkte': 128745, 'Arbeitslosenquote': 6.202692097005683, 'OffeneStellen': 25187, 'Unnamed: 5': nan}\n",
      "{'_id': ObjectId('62617cb56daf38671d1f9504'), 'Jahr': 1951, 'UnselbstBesch': 1984313, 'ArbeitslosVorgemerkte': 117497, 'Arbeitslosenquote': 5.590276951770141, 'OffeneStellen': 26860, 'Unnamed: 5': nan}\n",
      "{'_id': ObjectId('62617cb56daf38671d1f9505'), 'Jahr': 1952, 'UnselbstBesch': 1939075, 'ArbeitslosVorgemerkte': 156792, 'Arbeitslosenquote': 7.481009052578242, 'OffeneStellen': 16303, 'Unnamed: 5': nan}\n",
      "{'_id': ObjectId('62617cb56daf38671d1f9506'), 'Jahr': 1953, 'UnselbstBesch': 1918891, 'ArbeitslosVorgemerkte': 183478, 'Arbeitslosenquote': 8.727202503461571, 'OffeneStellen': 12475, 'Unnamed: 5': nan}\n",
      "{'_id': ObjectId('62617cb56daf38671d1f9507'), 'Jahr': 1954, 'UnselbstBesch': 1975241, 'ArbeitslosVorgemerkte': 163073, 'Arbeitslosenquote': 7.626241983169918, 'OffeneStellen': 17190, 'Unnamed: 5': nan}\n",
      "{'_id': ObjectId('62617cb56daf38671d1f9508'), 'Jahr': 1955, 'UnselbstBesch': 2074223, 'ArbeitslosVorgemerkte': 117890, 'Arbeitslosenquote': 5.3779161931889465, 'OffeneStellen': 24590, 'Unnamed: 5': nan}\n",
      "{'_id': ObjectId('62617cb56daf38671d1f9509'), 'Jahr': 1956, 'UnselbstBesch': 2137093, 'ArbeitslosVorgemerkte': 115123, 'Arbeitslosenquote': 5.1115434754037805, 'OffeneStellen': 21811, 'Unnamed: 5': nan}\n",
      "{'_id': ObjectId('62617cb56daf38671d1f950a'), 'Jahr': 1957, 'UnselbstBesch': 2185387, 'ArbeitslosVorgemerkte': 107283, 'Arbeitslosenquote': 4.6793912774189055, 'OffeneStellen': 21089, 'Unnamed: 5': nan}\n",
      "{'_id': ObjectId('62617cb56daf38671d1f950b'), 'Jahr': 1958, 'UnselbstBesch': 2202809, 'ArbeitslosVorgemerkte': 116675, 'Arbeitslosenquote': 5.030213616476769, 'OffeneStellen': 21435, 'Unnamed: 5': nan}\n",
      "{'_id': ObjectId('62617cb56daf38671d1f950c'), 'Jahr': 1959, 'UnselbstBesch': 2236064, 'ArbeitslosVorgemerkte': 104856, 'Arbeitslosenquote': 4.479264562650582, 'OffeneStellen': 24882, 'Unnamed: 5': nan}\n",
      "{'_id': ObjectId('62617cb56daf38671d1f950d'), 'Jahr': 1960, 'UnselbstBesch': 2281915, 'ArbeitslosVorgemerkte': 79310, 'Arbeitslosenquote': 3.3588497496003136, 'OffeneStellen': 30189, 'Unnamed: 5': nan}\n",
      "{'_id': ObjectId('62617cb56daf38671d1f950e'), 'Jahr': 1961, 'UnselbstBesch': 2322206, 'ArbeitslosVorgemerkte': 60505, 'Arbeitslosenquote': 2.5393343968278157, 'OffeneStellen': 37777, 'Unnamed: 5': nan}\n",
      "{'_id': ObjectId('62617cb56daf38671d1f950f'), 'Jahr': 1962, 'UnselbstBesch': 2340448, 'ArbeitslosVorgemerkte': 61658, 'Arbeitslosenquote': 2.5668309391841992, 'OffeneStellen': 37608, 'Unnamed: 5': nan}\n",
      "{'_id': ObjectId('62617cb56daf38671d1f9510'), 'Jahr': 1963, 'UnselbstBesch': 2342103, 'ArbeitslosVorgemerkte': 67642, 'Arbeitslosenquote': 2.8070189999356776, 'OffeneStellen': 37362, 'Unnamed: 5': nan}\n",
      "{'_id': ObjectId('62617cb56daf38671d1f9511'), 'Jahr': 1964, 'UnselbstBesch': 2363780, 'ArbeitslosVorgemerkte': 62828, 'Arbeitslosenquote': 2.589128528382005, 'OffeneStellen': 39612, 'Unnamed: 5': nan}\n",
      "{'_id': ObjectId('62617cb56daf38671d1f9512'), 'Jahr': 1965, 'UnselbstBesch': 2381467, 'ArbeitslosVorgemerkte': 61464, 'Arbeitslosenquote': 2.515994107078751, 'OffeneStellen': 41888, 'Unnamed: 5': nan}\n",
      "{'_id': ObjectId('62617cb56daf38671d1f9513'), 'Jahr': 1966, 'UnselbstBesch': 2386628, 'ArbeitslosVorgemerkte': 56188, 'Arbeitslosenquote': 2.3001323063218844, 'OffeneStellen': 45937, 'Unnamed: 5': nan}\n",
      "{'_id': ObjectId('62617cb56daf38671d1f9514'), 'Jahr': 1967, 'UnselbstBesch': 2359550, 'ArbeitslosVorgemerkte': 57967, 'Arbeitslosenquote': 2.3977907911299075, 'OffeneStellen': 32402, 'Unnamed: 5': nan}\n",
      "{'_id': ObjectId('62617cb56daf38671d1f9515'), 'Jahr': 1968, 'UnselbstBesch': 2339319, 'ArbeitslosVorgemerkte': 61505, 'Arbeitslosenquote': 2.561828772121572, 'OffeneStellen': 27638, 'Unnamed: 5': nan}\n",
      "{'_id': ObjectId('62617cb56daf38671d1f9516'), 'Jahr': 1969, 'UnselbstBesch': 2357655, 'ArbeitslosVorgemerkte': 55235, 'Arbeitslosenquote': 2.2891636170733016, 'OffeneStellen': 33889, 'Unnamed: 5': nan}\n",
      "{'_id': ObjectId('62617cb56daf38671d1f9517'), 'Jahr': 1970, 'UnselbstBesch': 2389195, 'ArbeitslosVorgemerkte': 45106, 'Arbeitslosenquote': 1.8529343741796929, 'OffeneStellen': 45280, 'Unnamed: 5': nan}\n",
      "{'_id': ObjectId('62617cb56daf38671d1f9518'), 'Jahr': 1971, 'UnselbstBesch': 2454858, 'ArbeitslosVorgemerkte': 36980, 'Arbeitslosenquote': 1.4840451104766843, 'OffeneStellen': 55914, 'Unnamed: 5': nan}\n",
      "{'_id': ObjectId('62617cb56daf38671d1f9519'), 'Jahr': 1972, 'UnselbstBesch': 2512718, 'ArbeitslosVorgemerkte': 33235, 'Arbeitslosenquote': 1.3054050879965184, 'OffeneStellen': 61998, 'Unnamed: 5': nan}\n",
      "{'_id': ObjectId('62617cb56daf38671d1f951a'), 'Jahr': 1973, 'UnselbstBesch': 2608306, 'ArbeitslosVorgemerkte': 31327, 'Arbeitslosenquote': 1.1867937701945688, 'OffeneStellen': 66060, 'Unnamed: 5': nan}\n",
      "{'_id': ObjectId('62617cb56daf38671d1f951b'), 'Jahr': 1974, 'UnselbstBesch': 2656922, 'ArbeitslosVorgemerkte': 35931, 'Arbeitslosenquote': 1.3343097450919157, 'OffeneStellen': 57599, 'Unnamed: 5': nan}\n",
      "{'_id': ObjectId('62617cb56daf38671d1f951c'), 'Jahr': 1975, 'UnselbstBesch': 2656440, 'ArbeitslosVorgemerkte': 55464, 'Arbeitslosenquote': 2.0452051400049562, 'OffeneStellen': 31209, 'Unnamed: 5': nan}\n",
      "{'_id': ObjectId('62617cb56daf38671d1f951d'), 'Jahr': 1976, 'UnselbstBesch': 2685862, 'ArbeitslosVorgemerkte': 55257, 'Arbeitslosenquote': 2.015855568474043, 'OffeneStellen': 29366, 'Unnamed: 5': nan}\n",
      "{'_id': ObjectId('62617cb56daf38671d1f951e'), 'Jahr': 1977, 'UnselbstBesch': 2737147, 'ArbeitslosVorgemerkte': 51165, 'Arbeitslosenquote': 1.8349811642312623, 'OffeneStellen': 32136, 'Unnamed: 5': nan}\n",
      "{'_id': ObjectId('62617cb56daf38671d1f951f'), 'Jahr': 1978, 'UnselbstBesch': 2757705, 'ArbeitslosVorgemerkte': 58570, 'Arbeitslosenquote': 2.0796974727254973, 'OffeneStellen': 29405, 'Unnamed: 5': nan}\n",
      "{'_id': ObjectId('62617cb56daf38671d1f9520'), 'Jahr': 1979, 'UnselbstBesch': 2773719, 'ArbeitslosVorgemerkte': 56719, 'Arbeitslosenquote': 2.0038948035604385, 'OffeneStellen': 31360, 'Unnamed: 5': nan}\n",
      "{'_id': ObjectId('62617cb56daf38671d1f9521'), 'Jahr': 1980, 'UnselbstBesch': 2788737, 'ArbeitslosVorgemerkte': 53161, 'Arbeitslosenquote': 1.8706160460368388, 'OffeneStellen': 36470, 'Unnamed: 5': nan}\n",
      "{'_id': ObjectId('62617cb56daf38671d1f9522'), 'Jahr': 1981, 'UnselbstBesch': 2798557, 'ArbeitslosVorgemerkte': 69295, 'Arbeitslosenquote': 2.4162683429967795, 'OffeneStellen': 25320, 'Unnamed: 5': nan}\n",
      "{'_id': ObjectId('62617cb56daf38671d1f9523'), 'Jahr': 1982, 'UnselbstBesch': 2766350, 'ArbeitslosVorgemerkte': 105346, 'Arbeitslosenquote': 3.668424512901087, 'OffeneStellen': 17276, 'Unnamed: 5': nan}\n",
      "{'_id': ObjectId('62617cb56daf38671d1f9524'), 'Jahr': 1983, 'UnselbstBesch': 2734729, 'ArbeitslosVorgemerkte': 127376, 'Arbeitslosenquote': 4.450430714456667, 'OffeneStellen': 15181, 'Unnamed: 5': nan}\n",
      "{'_id': ObjectId('62617cb56daf38671d1f9525'), 'Jahr': 1984, 'UnselbstBesch': 2744506, 'ArbeitslosVorgemerkte': 130469, 'Arbeitslosenquote': 4.53809163557944, 'OffeneStellen': 17166, 'Unnamed: 5': nan}\n",
      "{'_id': ObjectId('62617cb56daf38671d1f9526'), 'Jahr': 1985, 'UnselbstBesch': 2759657, 'ArbeitslosVorgemerkte': 139447, 'Arbeitslosenquote': 4.810003366557392, 'OffeneStellen': 22273, 'Unnamed: 5': nan}\n",
      "{'_id': ObjectId('62617cb56daf38671d1f9527'), 'Jahr': 1986, 'UnselbstBesch': 2780204, 'ArbeitslosVorgemerkte': 151972, 'Arbeitslosenquote': 5.182908529365222, 'OffeneStellen': 24693, 'Unnamed: 5': nan}\n",
      "{'_id': ObjectId('62617cb56daf38671d1f9528'), 'Jahr': 1987, 'UnselbstBesch': 2785358, 'ArbeitslosVorgemerkte': 164468, 'Arbeitslosenquote': 5.5755153015805, 'OffeneStellen': 26836, 'Unnamed: 5': nan}\n",
      "{'_id': ObjectId('62617cb56daf38671d1f9529'), 'Jahr': 1988, 'UnselbstBesch': 2810478, 'ArbeitslosVorgemerkte': 158631, 'Arbeitslosenquote': 5.342713925288697, 'OffeneStellen': 31184, 'Unnamed: 5': nan}\n",
      "{'_id': ObjectId('62617cb56daf38671d1f952a'), 'Jahr': 1989, 'UnselbstBesch': 2862291, 'ArbeitslosVorgemerkte': 149177, 'Arbeitslosenquote': 4.9536305881384095, 'OffeneStellen': 45599, 'Unnamed: 5': nan}\n",
      "{'_id': ObjectId('62617cb56daf38671d1f952b'), 'Jahr': 1990, 'UnselbstBesch': 2928662, 'ArbeitslosVorgemerkte': 165795, 'Arbeitslosenquote': 5.357805909081949, 'OffeneStellen': 55622, 'Unnamed: 5': nan}\n",
      "{'_id': ObjectId('62617cb56daf38671d1f952c'), 'Jahr': 1991, 'UnselbstBesch': 2997352, 'ArbeitslosVorgemerkte': 185029, 'Arbeitslosenquote': 5.814168699473759, 'OffeneStellen': 49448, 'Unnamed: 5': nan}\n",
      "{'_id': ObjectId('62617cb56daf38671d1f952d'), 'Jahr': 1992, 'UnselbstBesch': 3055810, 'ArbeitslosVorgemerkte': 193098, 'Arbeitslosenquote': 5.943473930317509, 'OffeneStellen': 44126, 'Unnamed: 5': nan}\n",
      "{'_id': ObjectId('62617cb56daf38671d1f952e'), 'Jahr': 1993, 'UnselbstBesch': 3054910, 'ArbeitslosVorgemerkte': 222265, 'Arbeitslosenquote': 6.782213339232722, 'OffeneStellen': 32906, 'Unnamed: 5': nan}\n",
      "{'_id': ObjectId('62617cb56daf38671d1f952f'), 'Jahr': 1994, 'UnselbstBesch': 3070732, 'ArbeitslosVorgemerkte': 214941, 'Arbeitslosenquote': 6.541764807392581, 'OffeneStellen': 30197, 'Unnamed: 5': nan}\n",
      "{'_id': ObjectId('62617cb56daf38671d1f9530'), 'Jahr': 1995, 'UnselbstBesch': 3068186, 'ArbeitslosVorgemerkte': 215716, 'Arbeitslosenquote': 6.5688927379684285, 'OffeneStellen': 24986, 'Unnamed: 5': nan}\n",
      "{'_id': ObjectId('62617cb56daf38671d1f9531'), 'Jahr': 1996, 'UnselbstBesch': 3047253, 'ArbeitslosVorgemerkte': 230507, 'Arbeitslosenquote': 7.032455091281851, 'OffeneStellen': 19431, 'Unnamed: 5': nan}\n",
      "{'_id': ObjectId('62617cb56daf38671d1f9532'), 'Jahr': 1997, 'UnselbstBesch': 3055569, 'ArbeitslosVorgemerkte': 233348, 'Arbeitslosenquote': 7.094979897638037, 'OffeneStellen': 19019, 'Unnamed: 5': nan}\n",
      "{'_id': ObjectId('62617cb56daf38671d1f9533'), 'Jahr': 1998, 'UnselbstBesch': 3076667, 'ArbeitslosVorgemerkte': 237794, 'Arbeitslosenquote': 7.174439524254471, 'OffeneStellen': 23088, 'Unnamed: 5': nan}\n",
      "{'_id': ObjectId('62617cb56daf38671d1f9534'), 'Jahr': 1999, 'UnselbstBesch': 3107898, 'ArbeitslosVorgemerkte': 221743, 'Arbeitslosenquote': 6.6596669130395725, 'OffeneStellen': 31216, 'Unnamed: 5': nan}\n",
      "{'_id': ObjectId('62617cb56daf38671d1f9535'), 'Jahr': 2000, 'UnselbstBesch': 3133738, 'ArbeitslosVorgemerkte': 194314, 'Arbeitslosenquote': 5.838670789999674, 'OffeneStellen': 35495, 'Unnamed: 5': nan}\n",
      "{'_id': ObjectId('62617cb56daf38671d1f9536'), 'Jahr': 2001, 'UnselbstBesch': 3148155, 'ArbeitslosVorgemerkte': 203883, 'Arbeitslosenquote': 6.0823594481924115, 'OffeneStellen': 29670, 'Unnamed: 5': nan}\n",
      "{'_id': ObjectId('62617cb56daf38671d1f9537'), 'Jahr': 2002, 'UnselbstBesch': 3155161, 'ArbeitslosVorgemerkte': 232418, 'Arbeitslosenquote': 6.8608879674835626, 'OffeneStellen': 23189, 'Unnamed: 5': nan}\n",
      "{'_id': ObjectId('62617cb56daf38671d1f9538'), 'Jahr': 2003, 'UnselbstBesch': 3184759, 'ArbeitslosVorgemerkte': 240079, 'Arbeitslosenquote': 7.009937404338541, 'OffeneStellen': 21716, 'Unnamed: 5': nan}\n",
      "{'_id': ObjectId('62617cb56daf38671d1f9539'), 'Jahr': 2004, 'UnselbstBesch': 3198591, 'ArbeitslosVorgemerkte': 243880, 'Arbeitslosenquote': 7.084446370279099, 'OffeneStellen': 23774, 'Unnamed: 5': nan}\n",
      "{'_id': ObjectId('62617cb56daf38671d1f953a'), 'Jahr': 2005, 'UnselbstBesch': 3230286, 'ArbeitslosVorgemerkte': 252654, 'Arbeitslosenquote': 7.2540431295061145, 'OffeneStellen': 26209, 'Unnamed: 5': nan}\n",
      "{'_id': ObjectId('62617cb56daf38671d1f953b'), 'Jahr': 2006, 'UnselbstBesch': 3280878, 'ArbeitslosVorgemerkte': 239174, 'Arbeitslosenquote': 6.794615534088701, 'OffeneStellen': 32912, 'Unnamed: 5': nan}\n",
      "{'_id': ObjectId('62617cb56daf38671d1f953c'), 'Jahr': 2007, 'UnselbstBesch': 3344039, 'ArbeitslosVorgemerkte': 222248, 'Arbeitslosenquote': 6.231915715140143, 'OffeneStellen': 38214, 'Unnamed: 5': nan}\n",
      "{'_id': ObjectId('62617cb56daf38671d1f953d'), 'Jahr': 2008, 'UnselbstBesch': 3388617, 'ArbeitslosVorgemerkte': 212253, 'Arbeitslosenquote': 5.894492164393605, 'OffeneStellen': 37498, 'Unnamed: 5': nan}\n",
      "{'_id': ObjectId('62617cb56daf38671d1f953e'), 'Jahr': 2009, 'UnselbstBesch': 3339051, 'ArbeitslosVorgemerkte': 260309, 'Arbeitslosenquote': 7.232091260668564, 'OffeneStellen': 27165, 'Unnamed: 5': nan}\n",
      "{'_id': ObjectId('62617cb56daf38671d1f953f'), 'Jahr': 2010, 'UnselbstBesch': 3360238, 'ArbeitslosVorgemerkte': 250782, 'Arbeitslosenquote': 6.944907533051604, 'OffeneStellen': 31009, 'Unnamed: 5': nan}\n",
      "{'_id': ObjectId('62617cb56daf38671d1f9540'), 'Jahr': 2011, 'UnselbstBesch': 3421748, 'ArbeitslosVorgemerkte': 246702, 'Arbeitslosenquote': 6.724965584920063, 'OffeneStellen': 32310, 'Unnamed: 5': nan}\n",
      "{'_id': ObjectId('62617cb56daf38671d1f9541'), 'Jahr': 2012, 'UnselbstBesch': 3465454, 'ArbeitslosVorgemerkte': 260643, 'Arbeitslosenquote': 6.995067492875253, 'OffeneStellen': 29422, 'Unnamed: 5': nan}\n",
      "{'_id': ObjectId('62617cb56daf38671d1f9542'), 'Jahr': 2013, 'UnselbstBesch': 3482996, 'ArbeitslosVorgemerkte': 287206, 'Arbeitslosenquote': 7.617788118514606, 'OffeneStellen': 26383, 'Unnamed: 5': nan}\n",
      "{'_id': ObjectId('62617cb56daf38671d1f9543'), 'Jahr': 2014, 'UnselbstBesch': 3503400, 'ArbeitslosVorgemerkte': 319357, 'Arbeitslosenquote': 8.354101503182127, 'OffeneStellen': 26320, 'Unnamed: 5': nan}\n",
      "{'_id': ObjectId('62617cb56daf38671d1f9544'), 'Jahr': 2015, 'UnselbstBesch': 3534854, 'ArbeitslosVorgemerkte': 354332, 'Arbeitslosenquote': 9.11069822836964, 'OffeneStellen': 29251, 'Unnamed: 5': nan}\n",
      "{'_id': ObjectId('62617cb56daf38671d1f9545'), 'Jahr': 2016, 'UnselbstBesch': 3586872, 'ArbeitslosVorgemerkte': 357313, 'Arbeitslosenquote': 9.05923530463201, 'OffeneStellen': 40277, 'Unnamed: 5': nan}\n",
      "{'_id': ObjectId('62617cb56daf38671d1f9546'), 'Jahr': 2017, 'UnselbstBesch': 3655297, 'ArbeitslosVorgemerkte': 339976, 'Arbeitslosenquote': 8.509456049686719, 'OffeneStellen': 56854, 'Unnamed: 5': nan}\n",
      "{'_id': ObjectId('62617cb56daf38671d1f9547'), 'Jahr': 2018, 'UnselbstBesch': 3741484, 'ArbeitslosVorgemerkte': 312107, 'Arbeitslosenquote': 7.699518772367512, 'OffeneStellen': 71545, 'Unnamed: 5': nan}\n",
      "{'_id': ObjectId('62617cb56daf38671d1f9548'), 'Jahr': 2019, 'UnselbstBesch': 3797304, 'ArbeitslosVorgemerkte': 301328, 'Arbeitslosenquote': 7.351916444316054, 'OffeneStellen': 77093, 'Unnamed: 5': nan}\n",
      "{'_id': ObjectId('62617cb56daf38671d1f9549'), 'Jahr': 2020, 'UnselbstBesch': 3717164, 'ArbeitslosVorgemerkte': 409639, 'Arbeitslosenquote': 9.926303927566199, 'OffeneStellen': 62833, 'Unnamed: 5': nan}\n",
      "{'_id': ObjectId('62617cb56daf38671d1f954a'), 'Jahr': 2021, 'UnselbstBesch': 3804941, 'ArbeitslosVorgemerkte': 331741, 'Arbeitslosenquote': 8.019494851187499, 'OffeneStellen': 95087, 'Unnamed: 5': nan}\n"
     ]
    }
   ],
   "source": [
    "#check if collection has content\n",
    "\n",
    "# unemploymentData\n",
    "unemp_col = db[\"unemploymentData\"]\n",
    "y = unemp_col.find()\n",
    "\n",
    "for data in y:\n",
    "    print(data)\n",
    "\n",
    "# populationGrowth\n",
    "populationGrowth_col = db[\"populationGrowth\"]\n",
    "# y = populationGrowth_col.find()\n",
    "#\n",
    "# for data in y:\n",
    "#     print(data)\n",
    "\n",
    "# realEstateVienna\n",
    "realEstateVienna_col = db[\"realEstateVienna\"]\n",
    "# y = realEstateVienna_col.find()\n",
    "#\n",
    "# for data in y:\n",
    "#     print(data)\n",
    "\n",
    "# netIncomeVienna\n",
    "netIncomeVienna_col = db[\"netIncomeVienna\"]\n",
    "# y = netIncomeVienna_col.find()\n",
    "#\n",
    "# for data in y:\n",
    "#     print(data)"
   ]
  },
  {
   "cell_type": "code",
   "execution_count": 115,
   "id": "817b2cef",
   "metadata": {},
   "outputs": [],
   "source": [
    "#code for droping collection (tables) \n",
    "# db[\"unemploymentData\"].drop()\n",
    "# db[\"populationGrowth\"].drop()\n",
    "# db[\"realEstateVienna\"].drop()\n",
    "# db[\"netIncomeVienna\"].drop()"
   ]
  },
  {
   "cell_type": "markdown",
   "source": [
    "### Load from database\n",
    "Build new dataframe by reading from database"
   ],
   "metadata": {
    "collapsed": false
   }
  },
  {
   "cell_type": "code",
   "execution_count": 31,
   "id": "cd92f12b",
   "metadata": {},
   "outputs": [
    {
     "data": {
      "text/plain": "                          Jahr  UnselbstBesch  ArbeitslosVorgemerkte  \\\n_id                                                                    \n626163596daf38671d1eb1cf  1946        1760000                  74000   \n626163596daf38671d1eb1d0  1947        1900000                  52700   \n626163596daf38671d1eb1d1  1948        1926700                  54500   \n626163596daf38671d1eb1d2  1949        1944700                  99900   \n626163596daf38671d1eb1d3  1950        1946886                 128745   \n...                        ...            ...                    ...   \n62617cb56daf38671d1f9546  2017        3655297                 339976   \n62617cb56daf38671d1f9547  2018        3741484                 312107   \n62617cb56daf38671d1f9548  2019        3797304                 301328   \n62617cb56daf38671d1f9549  2020        3717164                 409639   \n62617cb56daf38671d1f954a  2021        3804941                 331741   \n\n                          Arbeitslosenquote  OffeneStellen  Unnamed: 5  \n_id                                                                     \n626163596daf38671d1eb1cf           4.034896         140067         NaN  \n626163596daf38671d1eb1d0           2.698827         102810         NaN  \n626163596daf38671d1eb1d1           2.750858          45334         NaN  \n626163596daf38671d1eb1d2           4.886041          35724         NaN  \n626163596daf38671d1eb1d3           6.202692          25187         NaN  \n...                                     ...            ...         ...  \n62617cb56daf38671d1f9546           8.509456          56854         NaN  \n62617cb56daf38671d1f9547           7.699519          71545         NaN  \n62617cb56daf38671d1f9548           7.351916          77093         NaN  \n62617cb56daf38671d1f9549           9.926304          62833         NaN  \n62617cb56daf38671d1f954a           8.019495          95087         NaN  \n\n[228 rows x 6 columns]",
      "text/html": "<div>\n<style scoped>\n    .dataframe tbody tr th:only-of-type {\n        vertical-align: middle;\n    }\n\n    .dataframe tbody tr th {\n        vertical-align: top;\n    }\n\n    .dataframe thead th {\n        text-align: right;\n    }\n</style>\n<table border=\"1\" class=\"dataframe\">\n  <thead>\n    <tr style=\"text-align: right;\">\n      <th></th>\n      <th>Jahr</th>\n      <th>UnselbstBesch</th>\n      <th>ArbeitslosVorgemerkte</th>\n      <th>Arbeitslosenquote</th>\n      <th>OffeneStellen</th>\n      <th>Unnamed: 5</th>\n    </tr>\n    <tr>\n      <th>_id</th>\n      <th></th>\n      <th></th>\n      <th></th>\n      <th></th>\n      <th></th>\n      <th></th>\n    </tr>\n  </thead>\n  <tbody>\n    <tr>\n      <th>626163596daf38671d1eb1cf</th>\n      <td>1946</td>\n      <td>1760000</td>\n      <td>74000</td>\n      <td>4.034896</td>\n      <td>140067</td>\n      <td>NaN</td>\n    </tr>\n    <tr>\n      <th>626163596daf38671d1eb1d0</th>\n      <td>1947</td>\n      <td>1900000</td>\n      <td>52700</td>\n      <td>2.698827</td>\n      <td>102810</td>\n      <td>NaN</td>\n    </tr>\n    <tr>\n      <th>626163596daf38671d1eb1d1</th>\n      <td>1948</td>\n      <td>1926700</td>\n      <td>54500</td>\n      <td>2.750858</td>\n      <td>45334</td>\n      <td>NaN</td>\n    </tr>\n    <tr>\n      <th>626163596daf38671d1eb1d2</th>\n      <td>1949</td>\n      <td>1944700</td>\n      <td>99900</td>\n      <td>4.886041</td>\n      <td>35724</td>\n      <td>NaN</td>\n    </tr>\n    <tr>\n      <th>626163596daf38671d1eb1d3</th>\n      <td>1950</td>\n      <td>1946886</td>\n      <td>128745</td>\n      <td>6.202692</td>\n      <td>25187</td>\n      <td>NaN</td>\n    </tr>\n    <tr>\n      <th>...</th>\n      <td>...</td>\n      <td>...</td>\n      <td>...</td>\n      <td>...</td>\n      <td>...</td>\n      <td>...</td>\n    </tr>\n    <tr>\n      <th>62617cb56daf38671d1f9546</th>\n      <td>2017</td>\n      <td>3655297</td>\n      <td>339976</td>\n      <td>8.509456</td>\n      <td>56854</td>\n      <td>NaN</td>\n    </tr>\n    <tr>\n      <th>62617cb56daf38671d1f9547</th>\n      <td>2018</td>\n      <td>3741484</td>\n      <td>312107</td>\n      <td>7.699519</td>\n      <td>71545</td>\n      <td>NaN</td>\n    </tr>\n    <tr>\n      <th>62617cb56daf38671d1f9548</th>\n      <td>2019</td>\n      <td>3797304</td>\n      <td>301328</td>\n      <td>7.351916</td>\n      <td>77093</td>\n      <td>NaN</td>\n    </tr>\n    <tr>\n      <th>62617cb56daf38671d1f9549</th>\n      <td>2020</td>\n      <td>3717164</td>\n      <td>409639</td>\n      <td>9.926304</td>\n      <td>62833</td>\n      <td>NaN</td>\n    </tr>\n    <tr>\n      <th>62617cb56daf38671d1f954a</th>\n      <td>2021</td>\n      <td>3804941</td>\n      <td>331741</td>\n      <td>8.019495</td>\n      <td>95087</td>\n      <td>NaN</td>\n    </tr>\n  </tbody>\n</table>\n<p>228 rows × 6 columns</p>\n</div>"
     },
     "execution_count": 31,
     "metadata": {},
     "output_type": "execute_result"
    }
   ],
   "source": [
    "# Unemployment\n",
    "unemployment_fromDb = pd.DataFrame(list(unemp_col.find()))\n",
    "unemployment_fromDb = unemployment_fromDb.set_index(\"_id\")\n",
    "unemployment_fromDb"
   ]
  },
  {
   "cell_type": "code",
   "execution_count": 32,
   "id": "7018dca5",
   "metadata": {},
   "outputs": [
    {
     "data": {
      "text/plain": "                          YEAR  PERSON_IN_THOUSAND\n_id                                               \n626163596daf38671d1eb21b  1974                7519\n626163596daf38671d1eb21c  1975                7501\n626163596daf38671d1eb21d  1976                7484\n626163596daf38671d1eb21e  1977                7485\n626163596daf38671d1eb21f  1978                7482\n...                        ...                 ...\n62617cb56daf38671d1f9576  2017                8646\n62617cb56daf38671d1f9577  2018                8679\n62617cb56daf38671d1f9578  2019                8717\n62617cb56daf38671d1f9579  2020                8766\n62617cb56daf38671d1f957a  2021                8807\n\n[144 rows x 2 columns]",
      "text/html": "<div>\n<style scoped>\n    .dataframe tbody tr th:only-of-type {\n        vertical-align: middle;\n    }\n\n    .dataframe tbody tr th {\n        vertical-align: top;\n    }\n\n    .dataframe thead th {\n        text-align: right;\n    }\n</style>\n<table border=\"1\" class=\"dataframe\">\n  <thead>\n    <tr style=\"text-align: right;\">\n      <th></th>\n      <th>YEAR</th>\n      <th>PERSON_IN_THOUSAND</th>\n    </tr>\n    <tr>\n      <th>_id</th>\n      <th></th>\n      <th></th>\n    </tr>\n  </thead>\n  <tbody>\n    <tr>\n      <th>626163596daf38671d1eb21b</th>\n      <td>1974</td>\n      <td>7519</td>\n    </tr>\n    <tr>\n      <th>626163596daf38671d1eb21c</th>\n      <td>1975</td>\n      <td>7501</td>\n    </tr>\n    <tr>\n      <th>626163596daf38671d1eb21d</th>\n      <td>1976</td>\n      <td>7484</td>\n    </tr>\n    <tr>\n      <th>626163596daf38671d1eb21e</th>\n      <td>1977</td>\n      <td>7485</td>\n    </tr>\n    <tr>\n      <th>626163596daf38671d1eb21f</th>\n      <td>1978</td>\n      <td>7482</td>\n    </tr>\n    <tr>\n      <th>...</th>\n      <td>...</td>\n      <td>...</td>\n    </tr>\n    <tr>\n      <th>62617cb56daf38671d1f9576</th>\n      <td>2017</td>\n      <td>8646</td>\n    </tr>\n    <tr>\n      <th>62617cb56daf38671d1f9577</th>\n      <td>2018</td>\n      <td>8679</td>\n    </tr>\n    <tr>\n      <th>62617cb56daf38671d1f9578</th>\n      <td>2019</td>\n      <td>8717</td>\n    </tr>\n    <tr>\n      <th>62617cb56daf38671d1f9579</th>\n      <td>2020</td>\n      <td>8766</td>\n    </tr>\n    <tr>\n      <th>62617cb56daf38671d1f957a</th>\n      <td>2021</td>\n      <td>8807</td>\n    </tr>\n  </tbody>\n</table>\n<p>144 rows × 2 columns</p>\n</div>"
     },
     "execution_count": 32,
     "metadata": {},
     "output_type": "execute_result"
    }
   ],
   "source": [
    "#population growth\n",
    "populationGrowth_fromDb = pd.DataFrame(list(populationGrowth_col.find()))\n",
    "populationGrowth_fromDb = populationGrowth_fromDb.set_index(\"_id\")\n",
    "populationGrowth_fromDb"
   ]
  },
  {
   "cell_type": "code",
   "execution_count": 33,
   "outputs": [
    {
     "data": {
      "text/plain": "                          KG.Code    Katastralgemeinde      EZ     PLZ  \\\n_id                                                                      \n6261665e6daf38671d1eb2c7     1617         Strebersdorf  1417.0  1210.0   \n6261665e6daf38671d1eb2c8     1607  Groß Jedlersdorf II   193.0  1210.0   \n6261665e6daf38671d1eb2c9     1209         Ober St.Veit  3570.0  1130.0   \n6261665e6daf38671d1eb2ca     1207                Lainz   405.0  1130.0   \n6261665e6daf38671d1eb2cb     1101            Favoriten  3831.0  1100.0   \n...                           ...                  ...     ...     ...   \n62617cb96daf38671d2077ae     1204           Hadersdorf  1057.0  1140.0   \n62617cb96daf38671d2077af     1204           Hadersdorf  1200.0  1140.0   \n62617cb96daf38671d2077b0     1206           Hütteldorf  2760.0  1140.0   \n62617cb96daf38671d2077b1     1216           Weidlingau     5.0  1140.0   \n62617cb96daf38671d2077b2     1206           Hütteldorf   816.0  1140.0   \n\n                                           Straße       ON     Gst.  Gst.Fl.  \\\n_id                                                                            \n6261665e6daf38671d1eb2c7                  Mühlweg       13   752/16    755.0   \n6261665e6daf38671d1eb2c8            Bahnsteggasse        4      408    510.0   \n6261665e6daf38671d1eb2c9              Jennerplatz    34/20    938/3    456.0   \n6261665e6daf38671d1eb2ca  Sebastian-Brunner-Gasse        6     8/23    523.0   \n6261665e6daf38671d1eb2cb       Laxenburger Straße  2C -2 D  2044/19  12768.0   \n...                                           ...      ...      ...      ...   \n62617cb96daf38671d2077ae         Laskywiesengasse       10      889   1313.0   \n62617cb96daf38671d2077af       Robert-Fuchs-Gasse    25-31      448   4003.0   \n62617cb96daf38671d2077b0              Ulmenstraße       48   1232/1    499.0   \n62617cb96daf38671d2077b1              Hauptstraße      114     11/2   1649.0   \n62617cb96daf38671d2077b2         Steinböckengasse       57    685/1     21.0   \n\n                                  ErwArt Erwerbsdatum  ... Baureifgest  \\\n_id                                                    ...               \n6261665e6daf38671d1eb2c7     Kaufvertrag   13.10.2021  ...      FALSCH   \n6261665e6daf38671d1eb2c8     Kaufvertrag   13.09.2021  ...      FALSCH   \n6261665e6daf38671d1eb2c9     Kaufvertrag   10.08.2021  ...      FALSCH   \n6261665e6daf38671d1eb2ca     Kaufvertrag   30.12.2020  ...      FALSCH   \n6261665e6daf38671d1eb2cb     Kaufvertrag   04.11.2020  ...      FALSCH   \n...                                  ...          ...  ...         ...   \n62617cb96daf38671d2077ae     Kaufvertrag   18.08.2021  ...      FALSCH   \n62617cb96daf38671d2077af     Kaufvertrag   05.12.2018  ...      FALSCH   \n62617cb96daf38671d2077b0     Kaufvertrag   15.06.2021  ...      FALSCH   \n62617cb96daf38671d2077b1     Kaufvertrag   26.07.2021  ...      FALSCH   \n62617cb96daf38671d2077b2  MA 64-Bescheid   01.12.2021  ...      FALSCH   \n\n                         % Widmung Baurecht  Bis auf EZ Stammeinlage  \\\n_id                                                                    \n6261665e6daf38671d1eb2c7     100.0   FALSCH  NaN    NaN       FALSCH   \n6261665e6daf38671d1eb2c8     100.0   FALSCH  NaN    NaN       FALSCH   \n6261665e6daf38671d1eb2c9     100.0   FALSCH  NaN    NaN       FALSCH   \n6261665e6daf38671d1eb2ca     100.0   FALSCH  NaN    NaN       FALSCH   \n6261665e6daf38671d1eb2cb      30.0   FALSCH  NaN    NaN       FALSCH   \n...                            ...      ...  ...    ...          ...   \n62617cb96daf38671d2077ae     100.0   FALSCH  NaN    NaN       FALSCH   \n62617cb96daf38671d2077af     100.0   FALSCH  NaN    NaN       FALSCH   \n62617cb96daf38671d2077b0     100.0   FALSCH  NaN    NaN       FALSCH   \n62617cb96daf38671d2077b1     100.0   FALSCH  NaN    NaN       FALSCH   \n62617cb96daf38671d2077b2     100.0   FALSCH  NaN    NaN       FALSCH   \n\n                                  sonst_wid sonst_wid_prz ber. Kaufpreis  \\\n_id                                                                        \n6261665e6daf38671d1eb2c7                NaN           NaN       750000.0   \n6261665e6daf38671d1eb2c8                NaN           NaN      1250000.0   \n6261665e6daf38671d1eb2c9                NaN           NaN       480000.0   \n6261665e6daf38671d1eb2ca                NaN           NaN      1600000.0   \n6261665e6daf38671d1eb2cb  W  V  22 g , Wi g        40 ,30     15000000.0   \n...                                     ...           ...            ...   \n62617cb96daf38671d2077ae                NaN           NaN       950000.0   \n62617cb96daf38671d2077af                NaN           NaN      5200000.0   \n62617cb96daf38671d2077b0                NaN           NaN       699000.0   \n62617cb96daf38671d2077b1                NaN           NaN      1496000.0   \n62617cb96daf38671d2077b2                NaN           NaN         9450.0   \n\n                         Bauzins  \n_id                               \n6261665e6daf38671d1eb2c7     NaN  \n6261665e6daf38671d1eb2c8     NaN  \n6261665e6daf38671d1eb2c9     NaN  \n6261665e6daf38671d1eb2ca     NaN  \n6261665e6daf38671d1eb2cb     NaN  \n...                          ...  \n62617cb96daf38671d2077ae     NaN  \n62617cb96daf38671d2077af     NaN  \n62617cb96daf38671d2077b0     NaN  \n62617cb96daf38671d2077b1     NaN  \n62617cb96daf38671d2077b2     NaN  \n\n[115824 rows x 47 columns]",
      "text/html": "<div>\n<style scoped>\n    .dataframe tbody tr th:only-of-type {\n        vertical-align: middle;\n    }\n\n    .dataframe tbody tr th {\n        vertical-align: top;\n    }\n\n    .dataframe thead th {\n        text-align: right;\n    }\n</style>\n<table border=\"1\" class=\"dataframe\">\n  <thead>\n    <tr style=\"text-align: right;\">\n      <th></th>\n      <th>KG.Code</th>\n      <th>Katastralgemeinde</th>\n      <th>EZ</th>\n      <th>PLZ</th>\n      <th>Straße</th>\n      <th>ON</th>\n      <th>Gst.</th>\n      <th>Gst.Fl.</th>\n      <th>ErwArt</th>\n      <th>Erwerbsdatum</th>\n      <th>...</th>\n      <th>Baureifgest</th>\n      <th>% Widmung</th>\n      <th>Baurecht</th>\n      <th>Bis</th>\n      <th>auf EZ</th>\n      <th>Stammeinlage</th>\n      <th>sonst_wid</th>\n      <th>sonst_wid_prz</th>\n      <th>ber. Kaufpreis</th>\n      <th>Bauzins</th>\n    </tr>\n    <tr>\n      <th>_id</th>\n      <th></th>\n      <th></th>\n      <th></th>\n      <th></th>\n      <th></th>\n      <th></th>\n      <th></th>\n      <th></th>\n      <th></th>\n      <th></th>\n      <th></th>\n      <th></th>\n      <th></th>\n      <th></th>\n      <th></th>\n      <th></th>\n      <th></th>\n      <th></th>\n      <th></th>\n      <th></th>\n      <th></th>\n    </tr>\n  </thead>\n  <tbody>\n    <tr>\n      <th>6261665e6daf38671d1eb2c7</th>\n      <td>1617</td>\n      <td>Strebersdorf</td>\n      <td>1417.0</td>\n      <td>1210.0</td>\n      <td>Mühlweg</td>\n      <td>13</td>\n      <td>752/16</td>\n      <td>755.0</td>\n      <td>Kaufvertrag</td>\n      <td>13.10.2021</td>\n      <td>...</td>\n      <td>FALSCH</td>\n      <td>100.0</td>\n      <td>FALSCH</td>\n      <td>NaN</td>\n      <td>NaN</td>\n      <td>FALSCH</td>\n      <td>NaN</td>\n      <td>NaN</td>\n      <td>750000.0</td>\n      <td>NaN</td>\n    </tr>\n    <tr>\n      <th>6261665e6daf38671d1eb2c8</th>\n      <td>1607</td>\n      <td>Groß Jedlersdorf II</td>\n      <td>193.0</td>\n      <td>1210.0</td>\n      <td>Bahnsteggasse</td>\n      <td>4</td>\n      <td>408</td>\n      <td>510.0</td>\n      <td>Kaufvertrag</td>\n      <td>13.09.2021</td>\n      <td>...</td>\n      <td>FALSCH</td>\n      <td>100.0</td>\n      <td>FALSCH</td>\n      <td>NaN</td>\n      <td>NaN</td>\n      <td>FALSCH</td>\n      <td>NaN</td>\n      <td>NaN</td>\n      <td>1250000.0</td>\n      <td>NaN</td>\n    </tr>\n    <tr>\n      <th>6261665e6daf38671d1eb2c9</th>\n      <td>1209</td>\n      <td>Ober St.Veit</td>\n      <td>3570.0</td>\n      <td>1130.0</td>\n      <td>Jennerplatz</td>\n      <td>34/20</td>\n      <td>938/3</td>\n      <td>456.0</td>\n      <td>Kaufvertrag</td>\n      <td>10.08.2021</td>\n      <td>...</td>\n      <td>FALSCH</td>\n      <td>100.0</td>\n      <td>FALSCH</td>\n      <td>NaN</td>\n      <td>NaN</td>\n      <td>FALSCH</td>\n      <td>NaN</td>\n      <td>NaN</td>\n      <td>480000.0</td>\n      <td>NaN</td>\n    </tr>\n    <tr>\n      <th>6261665e6daf38671d1eb2ca</th>\n      <td>1207</td>\n      <td>Lainz</td>\n      <td>405.0</td>\n      <td>1130.0</td>\n      <td>Sebastian-Brunner-Gasse</td>\n      <td>6</td>\n      <td>8/23</td>\n      <td>523.0</td>\n      <td>Kaufvertrag</td>\n      <td>30.12.2020</td>\n      <td>...</td>\n      <td>FALSCH</td>\n      <td>100.0</td>\n      <td>FALSCH</td>\n      <td>NaN</td>\n      <td>NaN</td>\n      <td>FALSCH</td>\n      <td>NaN</td>\n      <td>NaN</td>\n      <td>1600000.0</td>\n      <td>NaN</td>\n    </tr>\n    <tr>\n      <th>6261665e6daf38671d1eb2cb</th>\n      <td>1101</td>\n      <td>Favoriten</td>\n      <td>3831.0</td>\n      <td>1100.0</td>\n      <td>Laxenburger Straße</td>\n      <td>2C -2 D</td>\n      <td>2044/19</td>\n      <td>12768.0</td>\n      <td>Kaufvertrag</td>\n      <td>04.11.2020</td>\n      <td>...</td>\n      <td>FALSCH</td>\n      <td>30.0</td>\n      <td>FALSCH</td>\n      <td>NaN</td>\n      <td>NaN</td>\n      <td>FALSCH</td>\n      <td>W  V  22 g , Wi g</td>\n      <td>40 ,30</td>\n      <td>15000000.0</td>\n      <td>NaN</td>\n    </tr>\n    <tr>\n      <th>...</th>\n      <td>...</td>\n      <td>...</td>\n      <td>...</td>\n      <td>...</td>\n      <td>...</td>\n      <td>...</td>\n      <td>...</td>\n      <td>...</td>\n      <td>...</td>\n      <td>...</td>\n      <td>...</td>\n      <td>...</td>\n      <td>...</td>\n      <td>...</td>\n      <td>...</td>\n      <td>...</td>\n      <td>...</td>\n      <td>...</td>\n      <td>...</td>\n      <td>...</td>\n      <td>...</td>\n    </tr>\n    <tr>\n      <th>62617cb96daf38671d2077ae</th>\n      <td>1204</td>\n      <td>Hadersdorf</td>\n      <td>1057.0</td>\n      <td>1140.0</td>\n      <td>Laskywiesengasse</td>\n      <td>10</td>\n      <td>889</td>\n      <td>1313.0</td>\n      <td>Kaufvertrag</td>\n      <td>18.08.2021</td>\n      <td>...</td>\n      <td>FALSCH</td>\n      <td>100.0</td>\n      <td>FALSCH</td>\n      <td>NaN</td>\n      <td>NaN</td>\n      <td>FALSCH</td>\n      <td>NaN</td>\n      <td>NaN</td>\n      <td>950000.0</td>\n      <td>NaN</td>\n    </tr>\n    <tr>\n      <th>62617cb96daf38671d2077af</th>\n      <td>1204</td>\n      <td>Hadersdorf</td>\n      <td>1200.0</td>\n      <td>1140.0</td>\n      <td>Robert-Fuchs-Gasse</td>\n      <td>25-31</td>\n      <td>448</td>\n      <td>4003.0</td>\n      <td>Kaufvertrag</td>\n      <td>05.12.2018</td>\n      <td>...</td>\n      <td>FALSCH</td>\n      <td>100.0</td>\n      <td>FALSCH</td>\n      <td>NaN</td>\n      <td>NaN</td>\n      <td>FALSCH</td>\n      <td>NaN</td>\n      <td>NaN</td>\n      <td>5200000.0</td>\n      <td>NaN</td>\n    </tr>\n    <tr>\n      <th>62617cb96daf38671d2077b0</th>\n      <td>1206</td>\n      <td>Hütteldorf</td>\n      <td>2760.0</td>\n      <td>1140.0</td>\n      <td>Ulmenstraße</td>\n      <td>48</td>\n      <td>1232/1</td>\n      <td>499.0</td>\n      <td>Kaufvertrag</td>\n      <td>15.06.2021</td>\n      <td>...</td>\n      <td>FALSCH</td>\n      <td>100.0</td>\n      <td>FALSCH</td>\n      <td>NaN</td>\n      <td>NaN</td>\n      <td>FALSCH</td>\n      <td>NaN</td>\n      <td>NaN</td>\n      <td>699000.0</td>\n      <td>NaN</td>\n    </tr>\n    <tr>\n      <th>62617cb96daf38671d2077b1</th>\n      <td>1216</td>\n      <td>Weidlingau</td>\n      <td>5.0</td>\n      <td>1140.0</td>\n      <td>Hauptstraße</td>\n      <td>114</td>\n      <td>11/2</td>\n      <td>1649.0</td>\n      <td>Kaufvertrag</td>\n      <td>26.07.2021</td>\n      <td>...</td>\n      <td>FALSCH</td>\n      <td>100.0</td>\n      <td>FALSCH</td>\n      <td>NaN</td>\n      <td>NaN</td>\n      <td>FALSCH</td>\n      <td>NaN</td>\n      <td>NaN</td>\n      <td>1496000.0</td>\n      <td>NaN</td>\n    </tr>\n    <tr>\n      <th>62617cb96daf38671d2077b2</th>\n      <td>1206</td>\n      <td>Hütteldorf</td>\n      <td>816.0</td>\n      <td>1140.0</td>\n      <td>Steinböckengasse</td>\n      <td>57</td>\n      <td>685/1</td>\n      <td>21.0</td>\n      <td>MA 64-Bescheid</td>\n      <td>01.12.2021</td>\n      <td>...</td>\n      <td>FALSCH</td>\n      <td>100.0</td>\n      <td>FALSCH</td>\n      <td>NaN</td>\n      <td>NaN</td>\n      <td>FALSCH</td>\n      <td>NaN</td>\n      <td>NaN</td>\n      <td>9450.0</td>\n      <td>NaN</td>\n    </tr>\n  </tbody>\n</table>\n<p>115824 rows × 47 columns</p>\n</div>"
     },
     "execution_count": 33,
     "metadata": {},
     "output_type": "execute_result"
    }
   ],
   "source": [
    "#real estate vienna\n",
    "realEstateVienna_fromDb = pd.DataFrame(list(realEstateVienna_col.find()))\n",
    "realEstateVienna_fromDb = realEstateVienna_fromDb.set_index(\"_id\")\n",
    "realEstateVienna_fromDb"
   ],
   "metadata": {
    "collapsed": false,
    "pycharm": {
     "name": "#%%\n"
    }
   }
  },
  {
   "cell_type": "code",
   "execution_count": 34,
   "outputs": [
    {
     "data": {
      "text/plain": "                          KG.Code    Katastralgemeinde      EZ     PLZ  \\\n_id                                                                      \n6261665e6daf38671d1eb2c7     1617         Strebersdorf  1417.0  1210.0   \n6261665e6daf38671d1eb2c8     1607  Groß Jedlersdorf II   193.0  1210.0   \n6261665e6daf38671d1eb2c9     1209         Ober St.Veit  3570.0  1130.0   \n6261665e6daf38671d1eb2ca     1207                Lainz   405.0  1130.0   \n6261665e6daf38671d1eb2cb     1101            Favoriten  3831.0  1100.0   \n...                           ...                  ...     ...     ...   \n62617cb96daf38671d2077ae     1204           Hadersdorf  1057.0  1140.0   \n62617cb96daf38671d2077af     1204           Hadersdorf  1200.0  1140.0   \n62617cb96daf38671d2077b0     1206           Hütteldorf  2760.0  1140.0   \n62617cb96daf38671d2077b1     1216           Weidlingau     5.0  1140.0   \n62617cb96daf38671d2077b2     1206           Hütteldorf   816.0  1140.0   \n\n                                           Straße       ON     Gst.  Gst.Fl.  \\\n_id                                                                            \n6261665e6daf38671d1eb2c7                  Mühlweg       13   752/16    755.0   \n6261665e6daf38671d1eb2c8            Bahnsteggasse        4      408    510.0   \n6261665e6daf38671d1eb2c9              Jennerplatz    34/20    938/3    456.0   \n6261665e6daf38671d1eb2ca  Sebastian-Brunner-Gasse        6     8/23    523.0   \n6261665e6daf38671d1eb2cb       Laxenburger Straße  2C -2 D  2044/19  12768.0   \n...                                           ...      ...      ...      ...   \n62617cb96daf38671d2077ae         Laskywiesengasse       10      889   1313.0   \n62617cb96daf38671d2077af       Robert-Fuchs-Gasse    25-31      448   4003.0   \n62617cb96daf38671d2077b0              Ulmenstraße       48   1232/1    499.0   \n62617cb96daf38671d2077b1              Hauptstraße      114     11/2   1649.0   \n62617cb96daf38671d2077b2         Steinböckengasse       57    685/1     21.0   \n\n                                  ErwArt Erwerbsdatum  ... Baureifgest  \\\n_id                                                    ...               \n6261665e6daf38671d1eb2c7     Kaufvertrag   13.10.2021  ...      FALSCH   \n6261665e6daf38671d1eb2c8     Kaufvertrag   13.09.2021  ...      FALSCH   \n6261665e6daf38671d1eb2c9     Kaufvertrag   10.08.2021  ...      FALSCH   \n6261665e6daf38671d1eb2ca     Kaufvertrag   30.12.2020  ...      FALSCH   \n6261665e6daf38671d1eb2cb     Kaufvertrag   04.11.2020  ...      FALSCH   \n...                                  ...          ...  ...         ...   \n62617cb96daf38671d2077ae     Kaufvertrag   18.08.2021  ...      FALSCH   \n62617cb96daf38671d2077af     Kaufvertrag   05.12.2018  ...      FALSCH   \n62617cb96daf38671d2077b0     Kaufvertrag   15.06.2021  ...      FALSCH   \n62617cb96daf38671d2077b1     Kaufvertrag   26.07.2021  ...      FALSCH   \n62617cb96daf38671d2077b2  MA 64-Bescheid   01.12.2021  ...      FALSCH   \n\n                         % Widmung Baurecht  Bis auf EZ Stammeinlage  \\\n_id                                                                    \n6261665e6daf38671d1eb2c7     100.0   FALSCH  NaN    NaN       FALSCH   \n6261665e6daf38671d1eb2c8     100.0   FALSCH  NaN    NaN       FALSCH   \n6261665e6daf38671d1eb2c9     100.0   FALSCH  NaN    NaN       FALSCH   \n6261665e6daf38671d1eb2ca     100.0   FALSCH  NaN    NaN       FALSCH   \n6261665e6daf38671d1eb2cb      30.0   FALSCH  NaN    NaN       FALSCH   \n...                            ...      ...  ...    ...          ...   \n62617cb96daf38671d2077ae     100.0   FALSCH  NaN    NaN       FALSCH   \n62617cb96daf38671d2077af     100.0   FALSCH  NaN    NaN       FALSCH   \n62617cb96daf38671d2077b0     100.0   FALSCH  NaN    NaN       FALSCH   \n62617cb96daf38671d2077b1     100.0   FALSCH  NaN    NaN       FALSCH   \n62617cb96daf38671d2077b2     100.0   FALSCH  NaN    NaN       FALSCH   \n\n                                  sonst_wid sonst_wid_prz ber. Kaufpreis  \\\n_id                                                                        \n6261665e6daf38671d1eb2c7                NaN           NaN       750000.0   \n6261665e6daf38671d1eb2c8                NaN           NaN      1250000.0   \n6261665e6daf38671d1eb2c9                NaN           NaN       480000.0   \n6261665e6daf38671d1eb2ca                NaN           NaN      1600000.0   \n6261665e6daf38671d1eb2cb  W  V  22 g , Wi g        40 ,30     15000000.0   \n...                                     ...           ...            ...   \n62617cb96daf38671d2077ae                NaN           NaN       950000.0   \n62617cb96daf38671d2077af                NaN           NaN      5200000.0   \n62617cb96daf38671d2077b0                NaN           NaN       699000.0   \n62617cb96daf38671d2077b1                NaN           NaN      1496000.0   \n62617cb96daf38671d2077b2                NaN           NaN         9450.0   \n\n                         Bauzins  \n_id                               \n6261665e6daf38671d1eb2c7     NaN  \n6261665e6daf38671d1eb2c8     NaN  \n6261665e6daf38671d1eb2c9     NaN  \n6261665e6daf38671d1eb2ca     NaN  \n6261665e6daf38671d1eb2cb     NaN  \n...                          ...  \n62617cb96daf38671d2077ae     NaN  \n62617cb96daf38671d2077af     NaN  \n62617cb96daf38671d2077b0     NaN  \n62617cb96daf38671d2077b1     NaN  \n62617cb96daf38671d2077b2     NaN  \n\n[115824 rows x 47 columns]",
      "text/html": "<div>\n<style scoped>\n    .dataframe tbody tr th:only-of-type {\n        vertical-align: middle;\n    }\n\n    .dataframe tbody tr th {\n        vertical-align: top;\n    }\n\n    .dataframe thead th {\n        text-align: right;\n    }\n</style>\n<table border=\"1\" class=\"dataframe\">\n  <thead>\n    <tr style=\"text-align: right;\">\n      <th></th>\n      <th>KG.Code</th>\n      <th>Katastralgemeinde</th>\n      <th>EZ</th>\n      <th>PLZ</th>\n      <th>Straße</th>\n      <th>ON</th>\n      <th>Gst.</th>\n      <th>Gst.Fl.</th>\n      <th>ErwArt</th>\n      <th>Erwerbsdatum</th>\n      <th>...</th>\n      <th>Baureifgest</th>\n      <th>% Widmung</th>\n      <th>Baurecht</th>\n      <th>Bis</th>\n      <th>auf EZ</th>\n      <th>Stammeinlage</th>\n      <th>sonst_wid</th>\n      <th>sonst_wid_prz</th>\n      <th>ber. Kaufpreis</th>\n      <th>Bauzins</th>\n    </tr>\n    <tr>\n      <th>_id</th>\n      <th></th>\n      <th></th>\n      <th></th>\n      <th></th>\n      <th></th>\n      <th></th>\n      <th></th>\n      <th></th>\n      <th></th>\n      <th></th>\n      <th></th>\n      <th></th>\n      <th></th>\n      <th></th>\n      <th></th>\n      <th></th>\n      <th></th>\n      <th></th>\n      <th></th>\n      <th></th>\n      <th></th>\n    </tr>\n  </thead>\n  <tbody>\n    <tr>\n      <th>6261665e6daf38671d1eb2c7</th>\n      <td>1617</td>\n      <td>Strebersdorf</td>\n      <td>1417.0</td>\n      <td>1210.0</td>\n      <td>Mühlweg</td>\n      <td>13</td>\n      <td>752/16</td>\n      <td>755.0</td>\n      <td>Kaufvertrag</td>\n      <td>13.10.2021</td>\n      <td>...</td>\n      <td>FALSCH</td>\n      <td>100.0</td>\n      <td>FALSCH</td>\n      <td>NaN</td>\n      <td>NaN</td>\n      <td>FALSCH</td>\n      <td>NaN</td>\n      <td>NaN</td>\n      <td>750000.0</td>\n      <td>NaN</td>\n    </tr>\n    <tr>\n      <th>6261665e6daf38671d1eb2c8</th>\n      <td>1607</td>\n      <td>Groß Jedlersdorf II</td>\n      <td>193.0</td>\n      <td>1210.0</td>\n      <td>Bahnsteggasse</td>\n      <td>4</td>\n      <td>408</td>\n      <td>510.0</td>\n      <td>Kaufvertrag</td>\n      <td>13.09.2021</td>\n      <td>...</td>\n      <td>FALSCH</td>\n      <td>100.0</td>\n      <td>FALSCH</td>\n      <td>NaN</td>\n      <td>NaN</td>\n      <td>FALSCH</td>\n      <td>NaN</td>\n      <td>NaN</td>\n      <td>1250000.0</td>\n      <td>NaN</td>\n    </tr>\n    <tr>\n      <th>6261665e6daf38671d1eb2c9</th>\n      <td>1209</td>\n      <td>Ober St.Veit</td>\n      <td>3570.0</td>\n      <td>1130.0</td>\n      <td>Jennerplatz</td>\n      <td>34/20</td>\n      <td>938/3</td>\n      <td>456.0</td>\n      <td>Kaufvertrag</td>\n      <td>10.08.2021</td>\n      <td>...</td>\n      <td>FALSCH</td>\n      <td>100.0</td>\n      <td>FALSCH</td>\n      <td>NaN</td>\n      <td>NaN</td>\n      <td>FALSCH</td>\n      <td>NaN</td>\n      <td>NaN</td>\n      <td>480000.0</td>\n      <td>NaN</td>\n    </tr>\n    <tr>\n      <th>6261665e6daf38671d1eb2ca</th>\n      <td>1207</td>\n      <td>Lainz</td>\n      <td>405.0</td>\n      <td>1130.0</td>\n      <td>Sebastian-Brunner-Gasse</td>\n      <td>6</td>\n      <td>8/23</td>\n      <td>523.0</td>\n      <td>Kaufvertrag</td>\n      <td>30.12.2020</td>\n      <td>...</td>\n      <td>FALSCH</td>\n      <td>100.0</td>\n      <td>FALSCH</td>\n      <td>NaN</td>\n      <td>NaN</td>\n      <td>FALSCH</td>\n      <td>NaN</td>\n      <td>NaN</td>\n      <td>1600000.0</td>\n      <td>NaN</td>\n    </tr>\n    <tr>\n      <th>6261665e6daf38671d1eb2cb</th>\n      <td>1101</td>\n      <td>Favoriten</td>\n      <td>3831.0</td>\n      <td>1100.0</td>\n      <td>Laxenburger Straße</td>\n      <td>2C -2 D</td>\n      <td>2044/19</td>\n      <td>12768.0</td>\n      <td>Kaufvertrag</td>\n      <td>04.11.2020</td>\n      <td>...</td>\n      <td>FALSCH</td>\n      <td>30.0</td>\n      <td>FALSCH</td>\n      <td>NaN</td>\n      <td>NaN</td>\n      <td>FALSCH</td>\n      <td>W  V  22 g , Wi g</td>\n      <td>40 ,30</td>\n      <td>15000000.0</td>\n      <td>NaN</td>\n    </tr>\n    <tr>\n      <th>...</th>\n      <td>...</td>\n      <td>...</td>\n      <td>...</td>\n      <td>...</td>\n      <td>...</td>\n      <td>...</td>\n      <td>...</td>\n      <td>...</td>\n      <td>...</td>\n      <td>...</td>\n      <td>...</td>\n      <td>...</td>\n      <td>...</td>\n      <td>...</td>\n      <td>...</td>\n      <td>...</td>\n      <td>...</td>\n      <td>...</td>\n      <td>...</td>\n      <td>...</td>\n      <td>...</td>\n    </tr>\n    <tr>\n      <th>62617cb96daf38671d2077ae</th>\n      <td>1204</td>\n      <td>Hadersdorf</td>\n      <td>1057.0</td>\n      <td>1140.0</td>\n      <td>Laskywiesengasse</td>\n      <td>10</td>\n      <td>889</td>\n      <td>1313.0</td>\n      <td>Kaufvertrag</td>\n      <td>18.08.2021</td>\n      <td>...</td>\n      <td>FALSCH</td>\n      <td>100.0</td>\n      <td>FALSCH</td>\n      <td>NaN</td>\n      <td>NaN</td>\n      <td>FALSCH</td>\n      <td>NaN</td>\n      <td>NaN</td>\n      <td>950000.0</td>\n      <td>NaN</td>\n    </tr>\n    <tr>\n      <th>62617cb96daf38671d2077af</th>\n      <td>1204</td>\n      <td>Hadersdorf</td>\n      <td>1200.0</td>\n      <td>1140.0</td>\n      <td>Robert-Fuchs-Gasse</td>\n      <td>25-31</td>\n      <td>448</td>\n      <td>4003.0</td>\n      <td>Kaufvertrag</td>\n      <td>05.12.2018</td>\n      <td>...</td>\n      <td>FALSCH</td>\n      <td>100.0</td>\n      <td>FALSCH</td>\n      <td>NaN</td>\n      <td>NaN</td>\n      <td>FALSCH</td>\n      <td>NaN</td>\n      <td>NaN</td>\n      <td>5200000.0</td>\n      <td>NaN</td>\n    </tr>\n    <tr>\n      <th>62617cb96daf38671d2077b0</th>\n      <td>1206</td>\n      <td>Hütteldorf</td>\n      <td>2760.0</td>\n      <td>1140.0</td>\n      <td>Ulmenstraße</td>\n      <td>48</td>\n      <td>1232/1</td>\n      <td>499.0</td>\n      <td>Kaufvertrag</td>\n      <td>15.06.2021</td>\n      <td>...</td>\n      <td>FALSCH</td>\n      <td>100.0</td>\n      <td>FALSCH</td>\n      <td>NaN</td>\n      <td>NaN</td>\n      <td>FALSCH</td>\n      <td>NaN</td>\n      <td>NaN</td>\n      <td>699000.0</td>\n      <td>NaN</td>\n    </tr>\n    <tr>\n      <th>62617cb96daf38671d2077b1</th>\n      <td>1216</td>\n      <td>Weidlingau</td>\n      <td>5.0</td>\n      <td>1140.0</td>\n      <td>Hauptstraße</td>\n      <td>114</td>\n      <td>11/2</td>\n      <td>1649.0</td>\n      <td>Kaufvertrag</td>\n      <td>26.07.2021</td>\n      <td>...</td>\n      <td>FALSCH</td>\n      <td>100.0</td>\n      <td>FALSCH</td>\n      <td>NaN</td>\n      <td>NaN</td>\n      <td>FALSCH</td>\n      <td>NaN</td>\n      <td>NaN</td>\n      <td>1496000.0</td>\n      <td>NaN</td>\n    </tr>\n    <tr>\n      <th>62617cb96daf38671d2077b2</th>\n      <td>1206</td>\n      <td>Hütteldorf</td>\n      <td>816.0</td>\n      <td>1140.0</td>\n      <td>Steinböckengasse</td>\n      <td>57</td>\n      <td>685/1</td>\n      <td>21.0</td>\n      <td>MA 64-Bescheid</td>\n      <td>01.12.2021</td>\n      <td>...</td>\n      <td>FALSCH</td>\n      <td>100.0</td>\n      <td>FALSCH</td>\n      <td>NaN</td>\n      <td>NaN</td>\n      <td>FALSCH</td>\n      <td>NaN</td>\n      <td>NaN</td>\n      <td>9450.0</td>\n      <td>NaN</td>\n    </tr>\n  </tbody>\n</table>\n<p>115824 rows × 47 columns</p>\n</div>"
     },
     "execution_count": 34,
     "metadata": {},
     "output_type": "execute_result"
    }
   ],
   "source": [
    "# net income vienna\n",
    "netIncomeVienna_fromDb = pd.DataFrame(list(realEstateVienna_col.find()))\n",
    "netIncomeVienna_fromDb = netIncomeVienna_fromDb.set_index(\"_id\")\n",
    "netIncomeVienna_fromDb"
   ],
   "metadata": {
    "collapsed": false,
    "pycharm": {
     "name": "#%%\n"
    }
   }
  }
 ],
 "metadata": {
  "kernelspec": {
   "display_name": "Python 3 (ipykernel)",
   "language": "python",
   "name": "python3"
  },
  "language_info": {
   "codemirror_mode": {
    "name": "ipython",
    "version": 3
   },
   "file_extension": ".py",
   "mimetype": "text/x-python",
   "name": "python",
   "nbconvert_exporter": "python",
   "pygments_lexer": "ipython3",
   "version": "3.9.7"
  }
 },
 "nbformat": 4,
 "nbformat_minor": 5
}