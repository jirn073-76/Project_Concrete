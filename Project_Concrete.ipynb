{
 "cells": [
  {
   "cell_type": "markdown",
   "id": "5c91e2dd",
   "metadata": {},
   "source": [
    "# Project Concrete \n",
    "\n",
    "_Project Concrete_ aims to correlate, visualize and predict real estate prices based on the relationship between various\n",
    "factors such as unemployment rate, disposable income and population growth in Austria.\n",
    "\n",
    "Data Sources used for this endeavour\n",
    "- [Unemployment Rates (Source: data.gv.at)](https://www.data.gv.at/katalog/dataset/CFE2FF7E9AD53C1EE053C630070AB105)\n",
    "- [Real Estate Prices (Source: statistik.at)](https://www.statistik.at/web_de/statistiken/wirtschaft/preise/immobilien_durchschnittspreise/index.html)\n",
    "- [Real Estate Prices Vienna (Source: data.gv.at)](https://www.data.gv.at/katalog/dataset/kaufpreissammlung-liegenschaften-wien/resource/7b9bdd2d-2ff0-4e6e-bba5-21483d8cf55b)\n",
    "- [Disposable Income  (Source: statistik.at)](https://www.statistik.at/web_de/statistiken/menschen_und_gesellschaft/soziales/haushalts-einkommen/index.html)\n",
    "- [Population Growth (Source: data.gv.at)](https://www.data.gv.at/katalog/dataset/f5f823c1-631b-35bd-abed-1442a7cb52a2)\n",
    "\n",
    "Planned execution steps:\n",
    "- Data aggregation and collection (see Planned Data Sources)\n",
    "- Data preperation and import into MongoDB\n",
    "- Analysis of data via Jupyter Notebook\n",
    "- Presentation and visualization of results (i.e. map of Austria, etc.)\n"
   ]
  },
  {
   "cell_type": "markdown",
   "id": "ee12d62f",
   "metadata": {},
   "source": [
    "### Install pymongo"
   ]
  },
  {
   "cell_type": "code",
   "execution_count": 1,
   "id": "0f6ad5bd",
   "metadata": {},
   "outputs": [
    {
     "name": "stdout",
     "output_type": "stream",
     "text": [
      "Collecting pymongo\r\n",
      "  Downloading pymongo-4.1.1-cp310-cp310-macosx_10_9_universal2.whl (364 kB)\r\n",
      "\u001B[2K     \u001B[90m━━━━━━━━━━━━━━━━━━━━━━━━━━━━━━━━━━━━━━━\u001B[0m \u001B[32m364.9/364.9 KB\u001B[0m \u001B[31m3.4 MB/s\u001B[0m eta \u001B[36m0:00:00\u001B[0m00:01\u001B[0m00:01\u001B[0m\r\n",
      "\u001B[?25hInstalling collected packages: pymongo\r\n",
      "Successfully installed pymongo-4.1.1\r\n"
     ]
    }
   ],
   "source": [
    "!pip install pymongo"
   ]
  },
  {
   "cell_type": "markdown",
   "id": "e8c794a9",
   "metadata": {},
   "source": [
    "### Connect to DB via connection string"
   ]
  },
  {
   "cell_type": "code",
   "execution_count": 3,
   "id": "f5d79752",
   "metadata": {
    "scrolled": true
   },
   "outputs": [
    {
     "name": "stdout",
     "output_type": "stream",
     "text": [
      "Connection Successful\n",
      "{'name': 'admin', 'sizeOnDisk': 8192, 'empty': False}\n",
      "{'name': 'config', 'sizeOnDisk': 12288, 'empty': False}\n",
      "{'name': 'local', 'sizeOnDisk': 8192, 'empty': False}\n"
     ]
    }
   ],
   "source": [
    "import pymongo\n",
    "from pymongo import MongoClient\n",
    "import pandas as pd\n",
    "\n",
    "# Provide the mongodb atlas url to connect python to mongodb using pymongo\n",
    "CONNECTION_STRING = \"mongodb://127.0.0.1:27017\"\n",
    "\n",
    "# Create a connection using MongoClient\n",
    "myclient = MongoClient(CONNECTION_STRING)\n",
    "\n",
    "print(\"Connection Successful\")\n",
    "\n",
    "# Check DB data\n",
    "for db in myclient.list_databases():\n",
    "    print(db)"
   ]
  },
  {
   "cell_type": "code",
   "execution_count": 7,
   "outputs": [
    {
     "data": {
      "text/plain": "    Jahr  UnselbstBesch  ArbeitslosVorgemerkte  Arbeitslosenquote  \\\n0   1946        1760000                  74000           4.034896   \n1   1947        1900000                  52700           2.698827   \n2   1948        1926700                  54500           2.750858   \n3   1949        1944700                  99900           4.886041   \n4   1950        1946886                 128745           6.202692   \n..   ...            ...                    ...                ...   \n71  2017        3655297                 339976           8.509456   \n72  2018        3741484                 312107           7.699519   \n73  2019        3797304                 301328           7.351916   \n74  2020        3717164                 409639           9.926304   \n75  2021        3804941                 331741           8.019495   \n\n    OffeneStellen  Unnamed: 5  \n0          140067         NaN  \n1          102810         NaN  \n2           45334         NaN  \n3           35724         NaN  \n4           25187         NaN  \n..            ...         ...  \n71          56854         NaN  \n72          71545         NaN  \n73          77093         NaN  \n74          62833         NaN  \n75          95087         NaN  \n\n[76 rows x 6 columns]",
      "text/html": "<div>\n<style scoped>\n    .dataframe tbody tr th:only-of-type {\n        vertical-align: middle;\n    }\n\n    .dataframe tbody tr th {\n        vertical-align: top;\n    }\n\n    .dataframe thead th {\n        text-align: right;\n    }\n</style>\n<table border=\"1\" class=\"dataframe\">\n  <thead>\n    <tr style=\"text-align: right;\">\n      <th></th>\n      <th>Jahr</th>\n      <th>UnselbstBesch</th>\n      <th>ArbeitslosVorgemerkte</th>\n      <th>Arbeitslosenquote</th>\n      <th>OffeneStellen</th>\n      <th>Unnamed: 5</th>\n    </tr>\n  </thead>\n  <tbody>\n    <tr>\n      <th>0</th>\n      <td>1946</td>\n      <td>1760000</td>\n      <td>74000</td>\n      <td>4.034896</td>\n      <td>140067</td>\n      <td>NaN</td>\n    </tr>\n    <tr>\n      <th>1</th>\n      <td>1947</td>\n      <td>1900000</td>\n      <td>52700</td>\n      <td>2.698827</td>\n      <td>102810</td>\n      <td>NaN</td>\n    </tr>\n    <tr>\n      <th>2</th>\n      <td>1948</td>\n      <td>1926700</td>\n      <td>54500</td>\n      <td>2.750858</td>\n      <td>45334</td>\n      <td>NaN</td>\n    </tr>\n    <tr>\n      <th>3</th>\n      <td>1949</td>\n      <td>1944700</td>\n      <td>99900</td>\n      <td>4.886041</td>\n      <td>35724</td>\n      <td>NaN</td>\n    </tr>\n    <tr>\n      <th>4</th>\n      <td>1950</td>\n      <td>1946886</td>\n      <td>128745</td>\n      <td>6.202692</td>\n      <td>25187</td>\n      <td>NaN</td>\n    </tr>\n    <tr>\n      <th>...</th>\n      <td>...</td>\n      <td>...</td>\n      <td>...</td>\n      <td>...</td>\n      <td>...</td>\n      <td>...</td>\n    </tr>\n    <tr>\n      <th>71</th>\n      <td>2017</td>\n      <td>3655297</td>\n      <td>339976</td>\n      <td>8.509456</td>\n      <td>56854</td>\n      <td>NaN</td>\n    </tr>\n    <tr>\n      <th>72</th>\n      <td>2018</td>\n      <td>3741484</td>\n      <td>312107</td>\n      <td>7.699519</td>\n      <td>71545</td>\n      <td>NaN</td>\n    </tr>\n    <tr>\n      <th>73</th>\n      <td>2019</td>\n      <td>3797304</td>\n      <td>301328</td>\n      <td>7.351916</td>\n      <td>77093</td>\n      <td>NaN</td>\n    </tr>\n    <tr>\n      <th>74</th>\n      <td>2020</td>\n      <td>3717164</td>\n      <td>409639</td>\n      <td>9.926304</td>\n      <td>62833</td>\n      <td>NaN</td>\n    </tr>\n    <tr>\n      <th>75</th>\n      <td>2021</td>\n      <td>3804941</td>\n      <td>331741</td>\n      <td>8.019495</td>\n      <td>95087</td>\n      <td>NaN</td>\n    </tr>\n  </tbody>\n</table>\n<p>76 rows × 6 columns</p>\n</div>"
     },
     "execution_count": 7,
     "metadata": {},
     "output_type": "execute_result"
    }
   ],
   "source": [
    "#import unemployment CSV from 1946\n",
    "unemploy_df = pd.read_csv('ub_al_alq_os.csv', sep = \";\", decimal=',')\n",
    "unemploy_df"
   ],
   "metadata": {
    "collapsed": false,
    "pycharm": {
     "name": "#%%\n"
    }
   }
  },
  {
   "cell_type": "code",
   "execution_count": 12,
   "id": "700be332",
   "metadata": {},
   "outputs": [
    {
     "data": {
      "text/plain": "    YEAR  PERSON_IN_THOUSAND\n0   1974                7519\n1   1975                7501\n2   1976                7484\n3   1977                7485\n4   1978                7482\n5   1979                7467\n6   1980                7465\n7   1981                7481\n8   1982                7493\n9   1983                7479\n10  1984                7477\n11  1985                7481\n12  1986                7486\n13  1987                7491\n14  1988                7500\n15  1989                7530\n16  1990                7587\n17  1991                7661\n18  1992                7747\n19  1993                7816\n20  1994                7849\n21  1995                7861\n22  1996                7871\n23  1997                7880\n24  1998                7888\n25  1999                7902\n26  2000                7920\n27  2001                7948\n28  2002                7989\n29  2003                8023\n30  2004                8065\n31  2005                8119\n32  2006                8162\n33  2007                8187\n34  2008                8211\n35  2009                8229\n36  2010                8245\n37  2011                8269\n38  2012                8303\n39  2013                8350\n40  2014                8415\n41  2015                8491\n42  2016                8599\n43  2017                8646\n44  2018                8679\n45  2019                8717\n46  2020                8766\n47  2021                8807",
      "text/html": "<div>\n<style scoped>\n    .dataframe tbody tr th:only-of-type {\n        vertical-align: middle;\n    }\n\n    .dataframe tbody tr th {\n        vertical-align: top;\n    }\n\n    .dataframe thead th {\n        text-align: right;\n    }\n</style>\n<table border=\"1\" class=\"dataframe\">\n  <thead>\n    <tr style=\"text-align: right;\">\n      <th></th>\n      <th>YEAR</th>\n      <th>PERSON_IN_THOUSAND</th>\n    </tr>\n  </thead>\n  <tbody>\n    <tr>\n      <th>0</th>\n      <td>1974</td>\n      <td>7519</td>\n    </tr>\n    <tr>\n      <th>1</th>\n      <td>1975</td>\n      <td>7501</td>\n    </tr>\n    <tr>\n      <th>2</th>\n      <td>1976</td>\n      <td>7484</td>\n    </tr>\n    <tr>\n      <th>3</th>\n      <td>1977</td>\n      <td>7485</td>\n    </tr>\n    <tr>\n      <th>4</th>\n      <td>1978</td>\n      <td>7482</td>\n    </tr>\n    <tr>\n      <th>5</th>\n      <td>1979</td>\n      <td>7467</td>\n    </tr>\n    <tr>\n      <th>6</th>\n      <td>1980</td>\n      <td>7465</td>\n    </tr>\n    <tr>\n      <th>7</th>\n      <td>1981</td>\n      <td>7481</td>\n    </tr>\n    <tr>\n      <th>8</th>\n      <td>1982</td>\n      <td>7493</td>\n    </tr>\n    <tr>\n      <th>9</th>\n      <td>1983</td>\n      <td>7479</td>\n    </tr>\n    <tr>\n      <th>10</th>\n      <td>1984</td>\n      <td>7477</td>\n    </tr>\n    <tr>\n      <th>11</th>\n      <td>1985</td>\n      <td>7481</td>\n    </tr>\n    <tr>\n      <th>12</th>\n      <td>1986</td>\n      <td>7486</td>\n    </tr>\n    <tr>\n      <th>13</th>\n      <td>1987</td>\n      <td>7491</td>\n    </tr>\n    <tr>\n      <th>14</th>\n      <td>1988</td>\n      <td>7500</td>\n    </tr>\n    <tr>\n      <th>15</th>\n      <td>1989</td>\n      <td>7530</td>\n    </tr>\n    <tr>\n      <th>16</th>\n      <td>1990</td>\n      <td>7587</td>\n    </tr>\n    <tr>\n      <th>17</th>\n      <td>1991</td>\n      <td>7661</td>\n    </tr>\n    <tr>\n      <th>18</th>\n      <td>1992</td>\n      <td>7747</td>\n    </tr>\n    <tr>\n      <th>19</th>\n      <td>1993</td>\n      <td>7816</td>\n    </tr>\n    <tr>\n      <th>20</th>\n      <td>1994</td>\n      <td>7849</td>\n    </tr>\n    <tr>\n      <th>21</th>\n      <td>1995</td>\n      <td>7861</td>\n    </tr>\n    <tr>\n      <th>22</th>\n      <td>1996</td>\n      <td>7871</td>\n    </tr>\n    <tr>\n      <th>23</th>\n      <td>1997</td>\n      <td>7880</td>\n    </tr>\n    <tr>\n      <th>24</th>\n      <td>1998</td>\n      <td>7888</td>\n    </tr>\n    <tr>\n      <th>25</th>\n      <td>1999</td>\n      <td>7902</td>\n    </tr>\n    <tr>\n      <th>26</th>\n      <td>2000</td>\n      <td>7920</td>\n    </tr>\n    <tr>\n      <th>27</th>\n      <td>2001</td>\n      <td>7948</td>\n    </tr>\n    <tr>\n      <th>28</th>\n      <td>2002</td>\n      <td>7989</td>\n    </tr>\n    <tr>\n      <th>29</th>\n      <td>2003</td>\n      <td>8023</td>\n    </tr>\n    <tr>\n      <th>30</th>\n      <td>2004</td>\n      <td>8065</td>\n    </tr>\n    <tr>\n      <th>31</th>\n      <td>2005</td>\n      <td>8119</td>\n    </tr>\n    <tr>\n      <th>32</th>\n      <td>2006</td>\n      <td>8162</td>\n    </tr>\n    <tr>\n      <th>33</th>\n      <td>2007</td>\n      <td>8187</td>\n    </tr>\n    <tr>\n      <th>34</th>\n      <td>2008</td>\n      <td>8211</td>\n    </tr>\n    <tr>\n      <th>35</th>\n      <td>2009</td>\n      <td>8229</td>\n    </tr>\n    <tr>\n      <th>36</th>\n      <td>2010</td>\n      <td>8245</td>\n    </tr>\n    <tr>\n      <th>37</th>\n      <td>2011</td>\n      <td>8269</td>\n    </tr>\n    <tr>\n      <th>38</th>\n      <td>2012</td>\n      <td>8303</td>\n    </tr>\n    <tr>\n      <th>39</th>\n      <td>2013</td>\n      <td>8350</td>\n    </tr>\n    <tr>\n      <th>40</th>\n      <td>2014</td>\n      <td>8415</td>\n    </tr>\n    <tr>\n      <th>41</th>\n      <td>2015</td>\n      <td>8491</td>\n    </tr>\n    <tr>\n      <th>42</th>\n      <td>2016</td>\n      <td>8599</td>\n    </tr>\n    <tr>\n      <th>43</th>\n      <td>2017</td>\n      <td>8646</td>\n    </tr>\n    <tr>\n      <th>44</th>\n      <td>2018</td>\n      <td>8679</td>\n    </tr>\n    <tr>\n      <th>45</th>\n      <td>2019</td>\n      <td>8717</td>\n    </tr>\n    <tr>\n      <th>46</th>\n      <td>2020</td>\n      <td>8766</td>\n    </tr>\n    <tr>\n      <th>47</th>\n      <td>2021</td>\n      <td>8807</td>\n    </tr>\n  </tbody>\n</table>\n</div>"
     },
     "execution_count": 12,
     "metadata": {},
     "output_type": "execute_result"
    }
   ],
   "source": [
    "#import population growth CSV from 1974\n",
    "pop_growth_df = pd.read_csv('OGD_ake003j_AKEZR_1.csv', sep = \";\", decimal=',')\n",
    "pop_growth_df = pop_growth_df.rename(columns={'C-A10-0': 'YEAR', 'F-ISIS-1': 'PERSON_IN_THOUSAND'})\n",
    "pop_growth_df.YEAR = pop_growth_df.YEAR.str.replace('A10-','',regex = True)\n",
    "pop_growth_df"
   ]
  },
  {
   "cell_type": "code",
   "execution_count": 16,
   "outputs": [
    {
     "name": "stderr",
     "output_type": "stream",
     "text": [
      "/Users/kayaloeher/Library/Python/3.7/lib/python/site-packages/IPython/core/interactiveshell.py:3229: DtypeWarning: Columns (12,19,41) have mixed types. Specify dtype option on import or set low_memory=False.\n",
      "  interactivity=interactivity, compiler=compiler, result=result)\n"
     ]
    },
    {
     "data": {
      "text/plain": "       KG.Code    Katastralgemeinde      EZ     PLZ                   Straße  \\\n0         1617         Strebersdorf  1417.0  1210.0                  Mühlweg   \n1         1607  Groß Jedlersdorf II   193.0  1210.0            Bahnsteggasse   \n2         1209         Ober St.Veit  3570.0  1130.0              Jennerplatz   \n3         1207                Lainz   405.0  1130.0  Sebastian-Brunner-Gasse   \n4         1101            Favoriten  3831.0  1100.0       Laxenburger Straße   \n...        ...                  ...     ...     ...                      ...   \n57907     1204           Hadersdorf  1057.0  1140.0         Laskywiesengasse   \n57908     1204           Hadersdorf  1200.0  1140.0       Robert-Fuchs-Gasse   \n57909     1206           Hütteldorf  2760.0  1140.0              Ulmenstraße   \n57910     1216           Weidlingau     5.0  1140.0              Hauptstraße   \n57911     1206           Hütteldorf   816.0  1140.0         Steinböckengasse   \n\n            ON     Gst.  Gst.Fl.          ErwArt Erwerbsdatum  ...  \\\n0           13   752/16    755.0     Kaufvertrag   13.10.2021  ...   \n1            4      408    510.0     Kaufvertrag   13.09.2021  ...   \n2        34/20    938/3    456.0     Kaufvertrag   10.08.2021  ...   \n3            6     8/23    523.0     Kaufvertrag   30.12.2020  ...   \n4      2C -2 D  2044/19  12768.0     Kaufvertrag   04.11.2020  ...   \n...        ...      ...      ...             ...          ...  ...   \n57907       10      889   1313.0     Kaufvertrag   18.08.2021  ...   \n57908    25-31      448   4003.0     Kaufvertrag   05.12.2018  ...   \n57909       48   1232/1    499.0     Kaufvertrag   15.06.2021  ...   \n57910      114     11/2   1649.0     Kaufvertrag   26.07.2021  ...   \n57911       57    685/1     21.0  MA 64-Bescheid   01.12.2021  ...   \n\n      Baureifgest % Widmung Baurecht  Bis auf EZ Stammeinlage  \\\n0          FALSCH     100.0   FALSCH  NaN    NaN       FALSCH   \n1          FALSCH     100.0   FALSCH  NaN    NaN       FALSCH   \n2          FALSCH     100.0   FALSCH  NaN    NaN       FALSCH   \n3          FALSCH     100.0   FALSCH  NaN    NaN       FALSCH   \n4          FALSCH      30.0   FALSCH  NaN    NaN       FALSCH   \n...           ...       ...      ...  ...    ...          ...   \n57907      FALSCH     100.0   FALSCH  NaN    NaN       FALSCH   \n57908      FALSCH     100.0   FALSCH  NaN    NaN       FALSCH   \n57909      FALSCH     100.0   FALSCH  NaN    NaN       FALSCH   \n57910      FALSCH     100.0   FALSCH  NaN    NaN       FALSCH   \n57911      FALSCH     100.0   FALSCH  NaN    NaN       FALSCH   \n\n               sonst_wid sonst_wid_prz ber. Kaufpreis Bauzins  \n0                    NaN           NaN       750000.0     NaN  \n1                    NaN           NaN      1250000.0     NaN  \n2                    NaN           NaN       480000.0     NaN  \n3                    NaN           NaN      1600000.0     NaN  \n4      W  V  22 g , Wi g        40 ,30     15000000.0     NaN  \n...                  ...           ...            ...     ...  \n57907                NaN           NaN       950000.0     NaN  \n57908                NaN           NaN      5200000.0     NaN  \n57909                NaN           NaN       699000.0     NaN  \n57910                NaN           NaN      1496000.0     NaN  \n57911                NaN           NaN         9450.0     NaN  \n\n[57912 rows x 47 columns]",
      "text/html": "<div>\n<style scoped>\n    .dataframe tbody tr th:only-of-type {\n        vertical-align: middle;\n    }\n\n    .dataframe tbody tr th {\n        vertical-align: top;\n    }\n\n    .dataframe thead th {\n        text-align: right;\n    }\n</style>\n<table border=\"1\" class=\"dataframe\">\n  <thead>\n    <tr style=\"text-align: right;\">\n      <th></th>\n      <th>KG.Code</th>\n      <th>Katastralgemeinde</th>\n      <th>EZ</th>\n      <th>PLZ</th>\n      <th>Straße</th>\n      <th>ON</th>\n      <th>Gst.</th>\n      <th>Gst.Fl.</th>\n      <th>ErwArt</th>\n      <th>Erwerbsdatum</th>\n      <th>...</th>\n      <th>Baureifgest</th>\n      <th>% Widmung</th>\n      <th>Baurecht</th>\n      <th>Bis</th>\n      <th>auf EZ</th>\n      <th>Stammeinlage</th>\n      <th>sonst_wid</th>\n      <th>sonst_wid_prz</th>\n      <th>ber. Kaufpreis</th>\n      <th>Bauzins</th>\n    </tr>\n  </thead>\n  <tbody>\n    <tr>\n      <th>0</th>\n      <td>1617</td>\n      <td>Strebersdorf</td>\n      <td>1417.0</td>\n      <td>1210.0</td>\n      <td>Mühlweg</td>\n      <td>13</td>\n      <td>752/16</td>\n      <td>755.0</td>\n      <td>Kaufvertrag</td>\n      <td>13.10.2021</td>\n      <td>...</td>\n      <td>FALSCH</td>\n      <td>100.0</td>\n      <td>FALSCH</td>\n      <td>NaN</td>\n      <td>NaN</td>\n      <td>FALSCH</td>\n      <td>NaN</td>\n      <td>NaN</td>\n      <td>750000.0</td>\n      <td>NaN</td>\n    </tr>\n    <tr>\n      <th>1</th>\n      <td>1607</td>\n      <td>Groß Jedlersdorf II</td>\n      <td>193.0</td>\n      <td>1210.0</td>\n      <td>Bahnsteggasse</td>\n      <td>4</td>\n      <td>408</td>\n      <td>510.0</td>\n      <td>Kaufvertrag</td>\n      <td>13.09.2021</td>\n      <td>...</td>\n      <td>FALSCH</td>\n      <td>100.0</td>\n      <td>FALSCH</td>\n      <td>NaN</td>\n      <td>NaN</td>\n      <td>FALSCH</td>\n      <td>NaN</td>\n      <td>NaN</td>\n      <td>1250000.0</td>\n      <td>NaN</td>\n    </tr>\n    <tr>\n      <th>2</th>\n      <td>1209</td>\n      <td>Ober St.Veit</td>\n      <td>3570.0</td>\n      <td>1130.0</td>\n      <td>Jennerplatz</td>\n      <td>34/20</td>\n      <td>938/3</td>\n      <td>456.0</td>\n      <td>Kaufvertrag</td>\n      <td>10.08.2021</td>\n      <td>...</td>\n      <td>FALSCH</td>\n      <td>100.0</td>\n      <td>FALSCH</td>\n      <td>NaN</td>\n      <td>NaN</td>\n      <td>FALSCH</td>\n      <td>NaN</td>\n      <td>NaN</td>\n      <td>480000.0</td>\n      <td>NaN</td>\n    </tr>\n    <tr>\n      <th>3</th>\n      <td>1207</td>\n      <td>Lainz</td>\n      <td>405.0</td>\n      <td>1130.0</td>\n      <td>Sebastian-Brunner-Gasse</td>\n      <td>6</td>\n      <td>8/23</td>\n      <td>523.0</td>\n      <td>Kaufvertrag</td>\n      <td>30.12.2020</td>\n      <td>...</td>\n      <td>FALSCH</td>\n      <td>100.0</td>\n      <td>FALSCH</td>\n      <td>NaN</td>\n      <td>NaN</td>\n      <td>FALSCH</td>\n      <td>NaN</td>\n      <td>NaN</td>\n      <td>1600000.0</td>\n      <td>NaN</td>\n    </tr>\n    <tr>\n      <th>4</th>\n      <td>1101</td>\n      <td>Favoriten</td>\n      <td>3831.0</td>\n      <td>1100.0</td>\n      <td>Laxenburger Straße</td>\n      <td>2C -2 D</td>\n      <td>2044/19</td>\n      <td>12768.0</td>\n      <td>Kaufvertrag</td>\n      <td>04.11.2020</td>\n      <td>...</td>\n      <td>FALSCH</td>\n      <td>30.0</td>\n      <td>FALSCH</td>\n      <td>NaN</td>\n      <td>NaN</td>\n      <td>FALSCH</td>\n      <td>W  V  22 g , Wi g</td>\n      <td>40 ,30</td>\n      <td>15000000.0</td>\n      <td>NaN</td>\n    </tr>\n    <tr>\n      <th>...</th>\n      <td>...</td>\n      <td>...</td>\n      <td>...</td>\n      <td>...</td>\n      <td>...</td>\n      <td>...</td>\n      <td>...</td>\n      <td>...</td>\n      <td>...</td>\n      <td>...</td>\n      <td>...</td>\n      <td>...</td>\n      <td>...</td>\n      <td>...</td>\n      <td>...</td>\n      <td>...</td>\n      <td>...</td>\n      <td>...</td>\n      <td>...</td>\n      <td>...</td>\n      <td>...</td>\n    </tr>\n    <tr>\n      <th>57907</th>\n      <td>1204</td>\n      <td>Hadersdorf</td>\n      <td>1057.0</td>\n      <td>1140.0</td>\n      <td>Laskywiesengasse</td>\n      <td>10</td>\n      <td>889</td>\n      <td>1313.0</td>\n      <td>Kaufvertrag</td>\n      <td>18.08.2021</td>\n      <td>...</td>\n      <td>FALSCH</td>\n      <td>100.0</td>\n      <td>FALSCH</td>\n      <td>NaN</td>\n      <td>NaN</td>\n      <td>FALSCH</td>\n      <td>NaN</td>\n      <td>NaN</td>\n      <td>950000.0</td>\n      <td>NaN</td>\n    </tr>\n    <tr>\n      <th>57908</th>\n      <td>1204</td>\n      <td>Hadersdorf</td>\n      <td>1200.0</td>\n      <td>1140.0</td>\n      <td>Robert-Fuchs-Gasse</td>\n      <td>25-31</td>\n      <td>448</td>\n      <td>4003.0</td>\n      <td>Kaufvertrag</td>\n      <td>05.12.2018</td>\n      <td>...</td>\n      <td>FALSCH</td>\n      <td>100.0</td>\n      <td>FALSCH</td>\n      <td>NaN</td>\n      <td>NaN</td>\n      <td>FALSCH</td>\n      <td>NaN</td>\n      <td>NaN</td>\n      <td>5200000.0</td>\n      <td>NaN</td>\n    </tr>\n    <tr>\n      <th>57909</th>\n      <td>1206</td>\n      <td>Hütteldorf</td>\n      <td>2760.0</td>\n      <td>1140.0</td>\n      <td>Ulmenstraße</td>\n      <td>48</td>\n      <td>1232/1</td>\n      <td>499.0</td>\n      <td>Kaufvertrag</td>\n      <td>15.06.2021</td>\n      <td>...</td>\n      <td>FALSCH</td>\n      <td>100.0</td>\n      <td>FALSCH</td>\n      <td>NaN</td>\n      <td>NaN</td>\n      <td>FALSCH</td>\n      <td>NaN</td>\n      <td>NaN</td>\n      <td>699000.0</td>\n      <td>NaN</td>\n    </tr>\n    <tr>\n      <th>57910</th>\n      <td>1216</td>\n      <td>Weidlingau</td>\n      <td>5.0</td>\n      <td>1140.0</td>\n      <td>Hauptstraße</td>\n      <td>114</td>\n      <td>11/2</td>\n      <td>1649.0</td>\n      <td>Kaufvertrag</td>\n      <td>26.07.2021</td>\n      <td>...</td>\n      <td>FALSCH</td>\n      <td>100.0</td>\n      <td>FALSCH</td>\n      <td>NaN</td>\n      <td>NaN</td>\n      <td>FALSCH</td>\n      <td>NaN</td>\n      <td>NaN</td>\n      <td>1496000.0</td>\n      <td>NaN</td>\n    </tr>\n    <tr>\n      <th>57911</th>\n      <td>1206</td>\n      <td>Hütteldorf</td>\n      <td>816.0</td>\n      <td>1140.0</td>\n      <td>Steinböckengasse</td>\n      <td>57</td>\n      <td>685/1</td>\n      <td>21.0</td>\n      <td>MA 64-Bescheid</td>\n      <td>01.12.2021</td>\n      <td>...</td>\n      <td>FALSCH</td>\n      <td>100.0</td>\n      <td>FALSCH</td>\n      <td>NaN</td>\n      <td>NaN</td>\n      <td>FALSCH</td>\n      <td>NaN</td>\n      <td>NaN</td>\n      <td>9450.0</td>\n      <td>NaN</td>\n    </tr>\n  </tbody>\n</table>\n<p>57912 rows × 47 columns</p>\n</div>"
     },
     "execution_count": 16,
     "metadata": {},
     "output_type": "execute_result"
    }
   ],
   "source": [
    "#import real estate prices\n",
    "real_estate_vienna_df = pd.read_csv('kaufpreissammlung-liegenschaften.csv', sep = \";\", decimal=',', encoding='latin-1')\n",
    "real_estate_vienna_df"
   ],
   "metadata": {
    "collapsed": false,
    "pycharm": {
     "name": "#%%\n"
    }
   }
  },
  {
   "cell_type": "markdown",
   "id": "47479a40",
   "metadata": {},
   "source": [
    "### Create collection\n",
    "Loading dataframes into database"
   ]
  },
  {
   "cell_type": "code",
   "execution_count": 19,
   "id": "64b4e43e",
   "metadata": {},
   "outputs": [
    {
     "name": "stdout",
     "output_type": "stream",
     "text": [
      "['unemploymentData', 'realEstateVienna', 'populationGrowth']\n"
     ]
    }
   ],
   "source": [
    "# In MongoDB collections and DBs are only created on first insert (reminiscent of Git folders)\n",
    "db = myclient[\"immodb\"]\n",
    "\n",
    "# We insert the whole dateframes\n",
    "\n",
    "# unemploymentData\n",
    "db.unemploymentData.insert_many(unemploy_df.to_dict('records'))\n",
    "# populationGrowth\n",
    "db.populationGrowth.insert_many(pop_growth_df.to_dict('records'))\n",
    "# realEstateVienna\n",
    "db.realEstateVienna.insert_many(real_estate_vienna_df.to_dict('records'))\n",
    "\n",
    "#check if colletion has been created\n",
    "print(db.list_collection_names())\n"
   ]
  },
  {
   "cell_type": "code",
   "execution_count": null,
   "id": "8fec0f0d",
   "metadata": {
    "pycharm": {
     "is_executing": true
    }
   },
   "outputs": [],
   "source": [
    "#check if colletion has content\n",
    "\n",
    "# unemploymentData\n",
    "unemp_col = db[\"unemploymentData\"]\n",
    "y = unemp_col.find()\n",
    "\n",
    "for data in y:\n",
    "    print(data)\n",
    "\n",
    "# populationGrowth\n",
    "# unemp_col = db[\"populationGrowth\"]\n",
    "# y = unemp_col.find()\n",
    "#\n",
    "# for data in y:\n",
    "#     print(data)\n",
    "\n",
    "# realEstateVienna\n",
    "# unemp_col = db[\"realEstateVienna\"]\n",
    "# y = unemp_col.find()\n",
    "#\n",
    "# for data in y:\n",
    "#     print(data)"
   ]
  },
  {
   "cell_type": "code",
   "execution_count": 115,
   "id": "817b2cef",
   "metadata": {},
   "outputs": [],
   "source": [
    "#code for droping collection (tables) \n",
    "# db[\"unemploymentData\"].drop()"
   ]
  },
  {
   "cell_type": "markdown",
   "source": [
    "### Load from database"
   ],
   "metadata": {
    "collapsed": false
   }
  },
  {
   "cell_type": "code",
   "execution_count": 113,
   "id": "cd92f12b",
   "metadata": {},
   "outputs": [
    {
     "data": {
      "text/html": [
       "<div>\n",
       "<style scoped>\n",
       "    .dataframe tbody tr th:only-of-type {\n",
       "        vertical-align: middle;\n",
       "    }\n",
       "\n",
       "    .dataframe tbody tr th {\n",
       "        vertical-align: top;\n",
       "    }\n",
       "\n",
       "    .dataframe thead th {\n",
       "        text-align: right;\n",
       "    }\n",
       "</style>\n",
       "<table border=\"1\" class=\"dataframe\">\n",
       "  <thead>\n",
       "    <tr style=\"text-align: right;\">\n",
       "      <th></th>\n",
       "      <th>Jahr</th>\n",
       "      <th>UnselbstBesch</th>\n",
       "      <th>ArbeitslosVorgemerkte</th>\n",
       "      <th>Arbeitslosenquote</th>\n",
       "      <th>OffeneStellen</th>\n",
       "      <th>Unnamed: 5</th>\n",
       "    </tr>\n",
       "    <tr>\n",
       "      <th>_id</th>\n",
       "      <th></th>\n",
       "      <th></th>\n",
       "      <th></th>\n",
       "      <th></th>\n",
       "      <th></th>\n",
       "      <th></th>\n",
       "    </tr>\n",
       "  </thead>\n",
       "  <tbody>\n",
       "    <tr>\n",
       "      <th>624d8c893c4c66d63708e6a7</th>\n",
       "      <td>1946</td>\n",
       "      <td>1760000</td>\n",
       "      <td>74000</td>\n",
       "      <td>4.034896</td>\n",
       "      <td>140067</td>\n",
       "      <td>NaN</td>\n",
       "    </tr>\n",
       "    <tr>\n",
       "      <th>624d8c893c4c66d63708e6a8</th>\n",
       "      <td>1947</td>\n",
       "      <td>1900000</td>\n",
       "      <td>52700</td>\n",
       "      <td>2.698827</td>\n",
       "      <td>102810</td>\n",
       "      <td>NaN</td>\n",
       "    </tr>\n",
       "    <tr>\n",
       "      <th>624d8c893c4c66d63708e6a9</th>\n",
       "      <td>1948</td>\n",
       "      <td>1926700</td>\n",
       "      <td>54500</td>\n",
       "      <td>2.750858</td>\n",
       "      <td>45334</td>\n",
       "      <td>NaN</td>\n",
       "    </tr>\n",
       "    <tr>\n",
       "      <th>624d8c893c4c66d63708e6aa</th>\n",
       "      <td>1949</td>\n",
       "      <td>1944700</td>\n",
       "      <td>99900</td>\n",
       "      <td>4.886041</td>\n",
       "      <td>35724</td>\n",
       "      <td>NaN</td>\n",
       "    </tr>\n",
       "    <tr>\n",
       "      <th>624d8c893c4c66d63708e6ab</th>\n",
       "      <td>1950</td>\n",
       "      <td>1946886</td>\n",
       "      <td>128745</td>\n",
       "      <td>6.202692</td>\n",
       "      <td>25187</td>\n",
       "      <td>NaN</td>\n",
       "    </tr>\n",
       "    <tr>\n",
       "      <th>...</th>\n",
       "      <td>...</td>\n",
       "      <td>...</td>\n",
       "      <td>...</td>\n",
       "      <td>...</td>\n",
       "      <td>...</td>\n",
       "      <td>...</td>\n",
       "    </tr>\n",
       "    <tr>\n",
       "      <th>624d8c893c4c66d63708e6ee</th>\n",
       "      <td>2017</td>\n",
       "      <td>3655297</td>\n",
       "      <td>339976</td>\n",
       "      <td>8.509456</td>\n",
       "      <td>56854</td>\n",
       "      <td>NaN</td>\n",
       "    </tr>\n",
       "    <tr>\n",
       "      <th>624d8c893c4c66d63708e6ef</th>\n",
       "      <td>2018</td>\n",
       "      <td>3741484</td>\n",
       "      <td>312107</td>\n",
       "      <td>7.699519</td>\n",
       "      <td>71545</td>\n",
       "      <td>NaN</td>\n",
       "    </tr>\n",
       "    <tr>\n",
       "      <th>624d8c893c4c66d63708e6f0</th>\n",
       "      <td>2019</td>\n",
       "      <td>3797304</td>\n",
       "      <td>301328</td>\n",
       "      <td>7.351916</td>\n",
       "      <td>77093</td>\n",
       "      <td>NaN</td>\n",
       "    </tr>\n",
       "    <tr>\n",
       "      <th>624d8c893c4c66d63708e6f1</th>\n",
       "      <td>2020</td>\n",
       "      <td>3717164</td>\n",
       "      <td>409639</td>\n",
       "      <td>9.926304</td>\n",
       "      <td>62833</td>\n",
       "      <td>NaN</td>\n",
       "    </tr>\n",
       "    <tr>\n",
       "      <th>624d8c893c4c66d63708e6f2</th>\n",
       "      <td>2021</td>\n",
       "      <td>3804941</td>\n",
       "      <td>331741</td>\n",
       "      <td>8.019495</td>\n",
       "      <td>95087</td>\n",
       "      <td>NaN</td>\n",
       "    </tr>\n",
       "  </tbody>\n",
       "</table>\n",
       "<p>76 rows × 6 columns</p>\n",
       "</div>"
      ],
      "text/plain": [
       "                          Jahr  UnselbstBesch  ArbeitslosVorgemerkte  \\\n",
       "_id                                                                    \n",
       "624d8c893c4c66d63708e6a7  1946        1760000                  74000   \n",
       "624d8c893c4c66d63708e6a8  1947        1900000                  52700   \n",
       "624d8c893c4c66d63708e6a9  1948        1926700                  54500   \n",
       "624d8c893c4c66d63708e6aa  1949        1944700                  99900   \n",
       "624d8c893c4c66d63708e6ab  1950        1946886                 128745   \n",
       "...                        ...            ...                    ...   \n",
       "624d8c893c4c66d63708e6ee  2017        3655297                 339976   \n",
       "624d8c893c4c66d63708e6ef  2018        3741484                 312107   \n",
       "624d8c893c4c66d63708e6f0  2019        3797304                 301328   \n",
       "624d8c893c4c66d63708e6f1  2020        3717164                 409639   \n",
       "624d8c893c4c66d63708e6f2  2021        3804941                 331741   \n",
       "\n",
       "                          Arbeitslosenquote  OffeneStellen  Unnamed: 5  \n",
       "_id                                                                     \n",
       "624d8c893c4c66d63708e6a7           4.034896         140067         NaN  \n",
       "624d8c893c4c66d63708e6a8           2.698827         102810         NaN  \n",
       "624d8c893c4c66d63708e6a9           2.750858          45334         NaN  \n",
       "624d8c893c4c66d63708e6aa           4.886041          35724         NaN  \n",
       "624d8c893c4c66d63708e6ab           6.202692          25187         NaN  \n",
       "...                                     ...            ...         ...  \n",
       "624d8c893c4c66d63708e6ee           8.509456          56854         NaN  \n",
       "624d8c893c4c66d63708e6ef           7.699519          71545         NaN  \n",
       "624d8c893c4c66d63708e6f0           7.351916          77093         NaN  \n",
       "624d8c893c4c66d63708e6f1           9.926304          62833         NaN  \n",
       "624d8c893c4c66d63708e6f2           8.019495          95087         NaN  \n",
       "\n",
       "[76 rows x 6 columns]"
      ]
     },
     "execution_count": 113,
     "metadata": {},
     "output_type": "execute_result"
    }
   ],
   "source": [
    "# Build new dataframe by reading from database\n",
    "unemployment_df = pd.DataFrame(list(unemp_col.find()))\n",
    "unemployment_df = unemployment_df.set_index(\"_id\")\n",
    "unemployment_df"
   ]
  },
  {
   "cell_type": "code",
   "execution_count": null,
   "id": "7018dca5",
   "metadata": {},
   "outputs": [],
   "source": []
  }
 ],
 "metadata": {
  "kernelspec": {
   "display_name": "Python 3 (ipykernel)",
   "language": "python",
   "name": "python3"
  },
  "language_info": {
   "codemirror_mode": {
    "name": "ipython",
    "version": 3
   },
   "file_extension": ".py",
   "mimetype": "text/x-python",
   "name": "python",
   "nbconvert_exporter": "python",
   "pygments_lexer": "ipython3",
   "version": "3.9.7"
  }
 },
 "nbformat": 4,
 "nbformat_minor": 5
}